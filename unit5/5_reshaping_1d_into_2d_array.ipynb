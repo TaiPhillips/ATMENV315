{
 "cells": [
  {
   "cell_type": "markdown",
   "metadata": {},
   "source": [
    "# Reshaping arrays\n",
    "\n",
    "## 1. Motivation \n",
    "\n",
    "Sometimes it is necessary to reorganize the data sample from 1 dimensional arrays into 2 or 3 dimensional arrays or the other way around.\n",
    "\n",
    "### 1.1 Examples: \n",
    "\n",
    "(A) The [monthly index of the El Nino - Southern Oscillation](https://www.esrl.noaa.gov/psd/data/correlation/nina34.data) is a time series. \n",
    "\n",
    "|year| Jan  | Feb   | Mar   | Apr   | May   | Jun   | Jul   | Aug   | Sep   | Oct   | Nov   | Dec |     |\n",
    "|-----|-----|-------|-------|-------|-------|-------|-------|-------|-------|-------|------|-----|-----|\n",
    "|1950| 24.55|  25.06|  25.87|  26.28|  26.18|  26.46|  26.29|  25.88|  25.74|  25.69|  25.47|  25.29|\n",
    "|1951| 25.24|  25.71|  26.90|  27.58|  27.92|  27.73|  27.60|  27.02|  27.23|  27.20|  27.25|  26.91|\n",
    "|1952| 26.67|  26.74|  27.17|  27.80|  27.79|  27.18|  26.53|  26.30|  26.36|  26.26|  25.92|  26.21|\n",
    "\n",
    "The data are arranged in a table with rows for the years and columns for the months. You want to plot the monthly mean time series and need to get your data from the 2-dimenionsal array into a 1-dimensional array.\n",
    "\n",
    "(B) You have a 3-dimensional data set containing globally gridded 0.5 x 0.5 degree temperature data from the [ERA-Interim/Land](https://www.ecmwf.int/en/forecasts/datasets/reanalysis-datasets/era-interim-land). Dimensions are longitude, latitude, and time. Multivariate statistical functions, however, often expect data to be arranged in rows for time dimension and columns are used to store all grid cells from the lon-lat dimensions.\n",
    "\n",
    "(C) Some image file formats store their pixel information as a simple text file with RGB values using three columns or even one single column. In this case we need some information about the original dimension of the 2-dimensional image and the order in which the pixel information was stored in the file. \n",
    "\n"
   ]
  },
  {
   "cell_type": "markdown",
   "metadata": {},
   "source": [
    "<p style=\"color:gold;background-color:purple;font-size:130%\">\n",
    "    <BR>Task 1: Team activity: Formulate a memorizable rule for reshaping from 1-dim into 2-dim arrays <BR><BR>\n",
    "</p>\n",
    "    \n",
    "In the next four cells we provide a 1-d data array and three examples how to 'reshape' a 1-dimensional array into a 2-dimensional of shape 4 x 5. Review the three code options and discuss in your team:\n",
    "- Which option do would you choose to study more closely and use in your own code for a similar problem of array reshaping? \n",
    "- What rule can be deduced from this example? How is the function _np.reshape_ filling up  2-d array? Which dimension is filled up first, which second?\n",
    "- Create an illustrative figure that can help you to remember the use of the function _np.reshape_ function for the 2-dimensional situation.\n"
   ]
  },
  {
   "cell_type": "code",
   "execution_count": 5,
   "metadata": {},
   "outputs": [
    {
     "name": "stdout",
     "output_type": "stream",
     "text": [
      "[ 0  1  2  3  4  5  6  7  8  9 10 11 12 13 14 15 16 17 18 19]\n"
     ]
    }
   ],
   "source": [
    "# creating  a small one-dimensional array \n",
    "import numpy as np\n",
    "import matplotlib.pyplot as plt\n",
    "n1=4\n",
    "n2=5\n",
    "nsize=n1*n2\n",
    "x1d=np.arange(0,nsize,1)\n",
    "print(x1d)"
   ]
  },
  {
   "cell_type": "markdown",
   "metadata": {},
   "source": [
    "### Application of function _np.reshape_ with keyword parameter _newshape_"
   ]
  },
  {
   "cell_type": "code",
   "execution_count": 6,
   "metadata": {},
   "outputs": [
    {
     "name": "stdout",
     "output_type": "stream",
     "text": [
      "(4, 5)\n",
      "------------\n",
      "[[ 0  1  2  3  4]\n",
      " [ 5  6  7  8  9]\n",
      " [10 11 12 13 14]\n",
      " [15 16 17 18 19]]\n"
     ]
    },
    {
     "data": {
      "image/png": "[encoded data removed]",
      "text/plain": [
       "<Figure size 432x288 with 2 Axes>"
      ]
     },
     "metadata": {
      "needs_background": "light"
     },
     "output_type": "display_data"
    }
   ],
   "source": [
    "# one function call does the reshaping\n",
    "x2d=np.reshape(x1d,newshape=[n1,n2])\n",
    "\n",
    "print(np.shape(x2d))\n",
    "print(\"------------\")\n",
    "print(x2d[:,:])\n",
    "plt.imshow(x2d)\n",
    "plt.colorbar()\n",
    "plt.show()"
   ]
  },
  {
   "cell_type": "code",
   "execution_count": null,
   "metadata": {},
   "outputs": [],
   "source": [
    "# two explicit loops\n",
    "z=np.empty(shape=(n1,n2))\n",
    "i=0\n",
    "k=0\n",
    "while i<n1:\n",
    "    j=0\n",
    "    while j<n2:\n",
    "        z[i,j]=x1d[k]\n",
    "        j=j+1\n",
    "        k=k+1\n",
    "    i=i+1\n",
    "\n",
    "print(np.shape(z))\n",
    "print(\"------------\")\n",
    "print(z)\n",
    "\n",
    "plt.imshow(z)\n",
    "plt.colorbar()\n",
    "plt.show()"
   ]
  },
  {
   "cell_type": "code",
   "execution_count": null,
   "metadata": {},
   "outputs": [],
   "source": [
    "# another way to do this is with one loop and \n",
    "# some careful slicing of the 1-dim data array.\n",
    "# We fill an empty 2d array row by row.\n",
    "\n",
    "z=np.empty(shape=(n1,n2))\n",
    "i=0\n",
    "while i<n1:\n",
    "    print(x1d[i*n2:(i+1)*n2])\n",
    "    z[i,:]=x1d[i*n2:(i+1)*n2]\n",
    "    i=i+1\n",
    "\n",
    "print(np.shape(z))\n",
    "print(\"------------\")\n",
    "print(z)\n",
    "\n",
    "plt.imshow(z[:,:])\n",
    "plt.colorbar()\n",
    "plt.show()"
   ]
  },
  {
   "cell_type": "code",
   "execution_count": null,
   "metadata": {},
   "outputs": [],
   "source": []
  },
  {
   "cell_type": "markdown",
   "metadata": {},
   "source": [
    "<p style=\"color:gold;background-color:purple;font-size:130%\">\n",
    "    <BR>Task 2: Individual activity: Reshape a 1-dim array into a 2-dimensional array of shape 105 x 128!<BR><BR>\n",
    "</p>\n",
    "\n",
    "\n",
    "### Before you continue please download the file labrador.csv from GitHUB and upload it to your local data folder (the same data folder that we have used before).\n",
    "\n",
    "In the next cell we provide code that reads data from a CSV file. It contains three columns with data. Select the first column from the \n",
    "- Which option do would you choose to study more closely and use in your own code for a similar problem of array reshaping? \n",
    "- What rule can be deduced from this example? How is the function _np.reshape_ filling up  2-d array? Which dimension is filled up first, which second?\n",
    "- Create an illustrative figure that can help you to remember the use of the function _np.reshape_ function for the 2-dimensional situation.\n"
   ]
  },
  {
   "cell_type": "code",
   "execution_count": null,
   "metadata": {},
   "outputs": [],
   "source": [
    "data1=np.loadtxt(\"../data/labrador.csv\",delimiter=',',usecols=1)\n",
    "print(type(data1))\n",
    "print(data1.shape)\n",
    "print(\"check if size of the array is equal to size of 105*128:\")\n",
    "if 105*128==np.size(data1):\n",
    "    print(\"Okay. we can fill the 2d array with our data!\")\n",
    "else:\n",
    "    print(\"There is a mismatch between the size of the 1d array and the 2d array 105x128!\")\n"
   ]
  },
  {
   "cell_type": "code",
   "execution_count": null,
   "metadata": {},
   "outputs": [],
   "source": [
    "# Data analysis in using 1-dim array\n",
    "plt.plot(data1)\n",
    "plt.title(\"plot of 1-dim data array\")\n",
    "plt.show()\n",
    "\n",
    "plt.hist(data1)\n",
    "plt.title(\"histogram of the data\")\n",
    "plt.show()"
   ]
  },
  {
   "cell_type": "code",
   "execution_count": null,
   "metadata": {},
   "outputs": [],
   "source": [
    "# reshape the array from 1-d to 2-dim\n",
    "# with 105 rows and 128 columns\n",
    "# then plot the 2-dim array with function plt.imshow\n",
    "\n",
    "\n"
   ]
  },
  {
   "cell_type": "markdown",
   "metadata": {},
   "source": [
    "## Summary\n",
    "\n",
    "There are several ways in Python's package numpy to reshape data arrays. We covered the basic methods using our learned tools. The function _np.reshape_ is a unverisal method to change the dimension of the data arrays. However, we must remember that there is a default rule how numpy fills the elements into the reshaped array.  \n",
    "\n",
    "Together with index selection /slicing operations that allow us to extract subsamples from our data arrays, the function np.reshape is giving you more flexibility in working with data sets, such as data from spreadsheet table files. \n",
    "\n",
    "__Tip__: If your future research takes you into data analysis you may want to expand your 'tools': the package _pandas_ and _xarray_ are really powerful support packages for data analysis in Python."
   ]
  },
  {
   "cell_type": "markdown",
   "metadata": {},
   "source": [
    "### References\n",
    "\n",
    "- [Pandas](https://www.tutorialspoint.com/python_pandas/python_pandas_introduction.htm)\n",
    "- [xarray](http://xarray.pydata.org/en/stable/faq.html)"
   ]
  }
 ],
 "metadata": {
  "kernelspec": {
   "display_name": "Python 3",
   "language": "python",
   "name": "python3"
  },
  "language_info": {
   "codemirror_mode": {
    "name": "ipython",
    "version": 3
   },
   "file_extension": ".py",
   "mimetype": "text/x-python",
   "name": "python",
   "nbconvert_exporter": "python",
   "pygments_lexer": "ipython3",
   "version": "3.6.7"
  }
 },
 "nbformat": 4,
 "nbformat_minor": 2
}
