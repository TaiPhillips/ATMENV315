{
 "cells": [
  {
   "cell_type": "markdown",
   "metadata": {},
   "source": [
    "# Class activity: Application of descriptive statistics using Python"
   ]
  },
  {
   "cell_type": "markdown",
   "metadata": {},
   "source": [
    "<p style=\"color:gold;background-color:purple;font-size:130%\">\n",
    "    <BR>Task 1: Working with Albany Airport daily temperature data<BR><BR>\n",
    "</p>\n",
    "### 1.1 Create a histogram of the daily Albany temperature data using all Feb 28th days from 1950 to 2018\n",
    "\n"
   ]
  },
  {
   "cell_type": "markdown",
   "metadata": {},
   "source": [
    "\n",
    "### 1.2. For the same data create a box-whisker plot\n"
   ]
  },
  {
   "cell_type": "markdown",
   "metadata": {},
   "source": [
    "<p style=\"color:gold;background-color:purple;font-size:130%\">\n",
    "    <BR>Task 2: Quantitative statistics with numpy<BR><BR>\n",
    "\n",
    "\n",
    "### 2.1 Now copy your code into the cell below and modify your code: Select all daily data from Feburary months 1950-2018 and apply the numpy functions:\n",
    "\n",
    "\n",
    "- _np.mean_ \n",
    "- _np.std_\n",
    "- _np.min_\n",
    "- _np.max_\n",
    "\n",
    "<p style=\"color:black;background-color:lightgreen\">\n",
    "    <BR>\n",
    "    Tip: when doing calculations with numpy functions, convert your list into a numpy array first.\n",
    "    <BR>\n",
    "    <BR>\n",
    "</p>\n",
    "Assign the array to a new variable: e.g. if *ylist* is your list use\n",
    "     \n",
    "     y=np.array(ylist)\n",
    "\n",
    "Keep track of the data and create a summary table in your Notebook.\n"
   ]
  },
  {
   "cell_type": "code",
   "execution_count": null,
   "metadata": {},
   "outputs": [],
   "source": []
  },
  {
   "cell_type": "markdown",
   "metadata": {},
   "source": [
    "Table 1: Summary statistic for all February temperatures 1950-2018\n",
    "\n",
    "| Month  | Mean |  Std |  Min  |  Max  | \n",
    "|--------|------|------|-------|-------|\n",
    "| Feb    | 9999 | 9999 |  9999 |  9999 |\n",
    "\n"
   ]
  },
  {
   "cell_type": "markdown",
   "metadata": {},
   "source": [
    "<p style=\"color:gold;background-color:purple;font-size:130%\">\n",
    "    <BR>Task 3: Apply your Python skills and create a climatology plot<BR><BR>\n",
    "        \n",
    "Think about a way to produce a summary graph for the Albany temperature (min, max and daily mean temperatures) climatology using the years 1981-2010.\n",
    "\n",
    "The figure below has more information in it. We want to make a cleaner version just for temperatures."
   ]
  },
  {
   "cell_type": "code",
   "execution_count": 5,
   "metadata": {},
   "outputs": [
    {
     "data": {
      "text/html": [
       "<img src=\"http://www.albany-ny.climatemps.com/albany-ny-climate-graph.gif\" width=\"600\"/>"
      ],
      "text/plain": [
       "<IPython.core.display.Image object>"
      ]
     },
     "execution_count": 5,
     "metadata": {},
     "output_type": "execute_result"
    }
   ],
   "source": [
    "#To give you an example graph:\n",
    "from IPython.display import Image\n",
    "from IPython.core.display import HTML \n",
    "Image(url= \"http://www.albany-ny.climatemps.com/albany-ny-climate-graph.gif\", width=600)"
   ]
  },
  {
   "cell_type": "code",
   "execution_count": null,
   "metadata": {},
   "outputs": [],
   "source": []
  }
 ],
 "metadata": {
  "kernelspec": {
   "display_name": "Python 3",
   "language": "python",
   "name": "python3"
  },
  "language_info": {
   "codemirror_mode": {
    "name": "ipython",
    "version": 3
   },
   "file_extension": ".py",
   "mimetype": "text/x-python",
   "name": "python",
   "nbconvert_exporter": "python",
   "pygments_lexer": "ipython3",
   "version": "3.6.7"
  }
 },
 "nbformat": 4,
 "nbformat_minor": 2
}
