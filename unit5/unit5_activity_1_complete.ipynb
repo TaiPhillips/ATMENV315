{
 "cells": [
  {
   "cell_type": "markdown",
   "metadata": {},
   "source": [
    "# Class activity: Application of descriptive statistics using Python"
   ]
  },
  {
   "cell_type": "markdown",
   "metadata": {},
   "source": [
    "### Getting archived weather data for US station data \n",
    "\n",
    "This script defines a function that downloads daily weather data from weather stations from the Global Historical Climate Network - Daily(GHCND).\n",
    "The data server that allows us a convenient access to the daily data is located at the Applied Climate Information System (ACIS).  [http://data.rcc-acis.org](http://data.rcc-acis.org)\n",
    "\n",
    "\n",
    "\n",
    "In the code below we have selected the station Albany Airport (KALB). The GHCN station idenifier is \n",
    "\n",
    "__'USW00014735'__\n",
    "\n",
    "We can get for example: \n",
    "- avgt: daily average temperature (F)\n",
    "- tmin: daily minimum temperature (F)\n",
    "- tmax: daily maximum temperature (F)\n",
    "---\n"
   ]
  },
  {
   "cell_type": "markdown",
   "metadata": {},
   "source": [
    "## Code development\n",
    "\n",
    "We copy and paste the import statements and the function definition from unit4/get_ghcn_daily_from_server.ipynb\n"
   ]
  },
  {
   "cell_type": "code",
   "execution_count": 125,
   "metadata": {},
   "outputs": [],
   "source": [
    "import numpy as np\n",
    "import matplotlib.pyplot as plt\n",
    "# new: you can change the style of the plots by choosing from \n",
    "# the matplotlib styles. More help can be found through a quick google search\n",
    "import matplotlib as mpl\n",
    "mpl.style.use('ggplot') #'classic' \n"
   ]
  },
  {
   "cell_type": "code",
   "execution_count": 126,
   "metadata": {},
   "outputs": [],
   "source": [
    "# this cell contains all that is needed for defining\n",
    "# the data access function get_stationdata\n",
    "import urllib3\n",
    "import json\n",
    "import datetime as dt\n",
    "#########################################################################################################\n",
    "# defining a function to allow us to make more than just one specific data request\n",
    "# it allows flexibilty in terms of station, variable, start and end year\n",
    "# It first creates the http-string and uses the urllib3 functions to transmit the request to the server\n",
    "# Then it receives the data in the JSON text format and converts it into a nested list object\n",
    "# That's where we had to put some work in to extract the dates and data values and put them into lists\n",
    "# two lists are returned, one with the dates (NEW object type 'datetime'!) and teh numerical values.\n",
    "#########################################################################################################\n",
    "def get_stationdata(sid,var='avgt',startyear=2017,endyear=2017):\n",
    "    \"\"\"Sends request to regional climate center ACIS and gets daily data for one station.\n",
    "    Input parameters: \n",
    "        sid (string): a station id\n",
    "        var (string): a variable name (e.g. 'avgt', 'mint', 'maxt')\n",
    "    Optional parameters:\n",
    "        startyear and endyear (integers): for selecting the year range e.g. 1950 and 2017\n",
    "    \n",
    "    Returned objects:\n",
    "        list with dates (datetime objects)\n",
    "        list with the data \n",
    "    \"\"\"    \n",
    "    # the http address of the data server\n",
    "    host=\"http://data.rcc-acis.org/StnData\"\n",
    "    # forming the query string for the host server\n",
    "    sdate='&sdate='+str(startyear)+'-01-1'\n",
    "    edate='&edate='+str(endyear)+'-12-31'\n",
    "    query='?sid='+sid+'&'+sdate+'&'+edate+'&interval=dly&'\\\n",
    "    +'elems='+var\n",
    "    # try to connect and to get the requested data\n",
    "    # in format ready to export to a csv file\n",
    "    print (\">send data request to \"+host+query)\n",
    "    print (\"> still waiting for response ...\")\n",
    "    try:\n",
    "        http= urllib3.PoolManager()\n",
    "        response = http.request('GET',host+query)\n",
    "        # convert json-string into dictionary\n",
    "        content =  json.loads(response.data.decode('utf-8'))\n",
    "        meta=content['meta']\n",
    "        data=content['data']\n",
    "        time=[]\n",
    "        value=[]\n",
    "        for item in data:\n",
    "            #print (item)\n",
    "            time.append(dt.datetime.strptime(item[0],\"%Y-%m-%d\"))\n",
    "            if (item[1]!='M'):\n",
    "                value.append(float(item[1]))\n",
    "            else:\n",
    "                value.append(np.NAN)\n",
    "    except Exception as e:\n",
    "        print (\"error occurred:\", e)\n",
    "        return\n",
    "    print(\">... done\")\n",
    "    return time,value"
   ]
  },
  {
   "cell_type": "code",
   "execution_count": 127,
   "metadata": {},
   "outputs": [
    {
     "name": "stdout",
     "output_type": "stream",
     "text": [
      ">send data request to http://data.rcc-acis.org/StnData?sid=USW00014735&&sdate=1950-01-1&&edate=2018-12-31&interval=dly&elems=avgt\n",
      "> still waiting for response ...\n",
      ">... done\n"
     ]
    }
   ],
   "source": [
    "x,y=get_stationdata(\"USW00014735\",'avgt',startyear=1950,endyear=2018)"
   ]
  },
  {
   "cell_type": "markdown",
   "metadata": {},
   "source": [
    "<p style=\"color:gold;background-color:purple;font-size:130%\">\n",
    "    <BR>Task 1: Working with Albany Airport daily temperature data<BR><BR>\n",
    "</p>"
   ]
  },
  {
   "cell_type": "markdown",
   "metadata": {},
   "source": [
    "### Create a histogram of the daily Albany temperature data using all Feb 28th days from 1950 to 2018"
   ]
  },
  {
   "cell_type": "markdown",
   "metadata": {},
   "source": [
    "**Step 1**: Subsample the data and put all February 28th dates and temperatures into lists. Then once the loop is finished and the lists are complete, I convert the lists into numpy arrays. They work best for our data analysis."
   ]
  },
  {
   "cell_type": "code",
   "execution_count": 129,
   "metadata": {},
   "outputs": [],
   "source": [
    "# remember x and y are lists with the all dates and all temperature, respectively \n",
    "i=0\n",
    "date=None\n",
    "xlist=[] # use to store the dates\n",
    "ylist=[] # use to store the temperatures\n",
    "# storing years, month and day as numbers\n",
    "yearlist =[]\n",
    "monthlist = []\n",
    "daylist =[]\n",
    "while i < len(x):\n",
    "    date=x[i]\n",
    "    # we can combine our two if statements into one in this case\n",
    "    if date.month == 2 and date.day ==28: \n",
    "        xlist.append(date) # date is x[i]\n",
    "        yearlist.append(date.year)\n",
    "        monthlist.append(date.month)\n",
    "        daylist.append(date.day)\n",
    "        ylist.append(y[i])\n",
    "    i=i+1\n",
    "    # end of loop\n",
    "    \n",
    "#####################################\n",
    "# Convert all lists into numpy arrays\n",
    "######################################\n",
    "y1=np.array(ylist)\n",
    "year=np.array(yearlist)\n",
    "month=np.array(monthlist)\n",
    "day=np.array(daylist)"
   ]
  },
  {
   "cell_type": "markdown",
   "metadata": {},
   "source": [
    "** Step 2: Show the data as a histogram. \n",
    "\n",
    "The function _plt.hist_ is given a numpy array with our temperature sample.\n",
    "You can choose the number of bins for the histogram, or leave the keyword parameter\n",
    "_bin_ undefined. Then the function will adjust the bin number to the data.\n",
    "The choice of bins is always a trade-off between the resolution along the x-axis (the sample space) and the robustness of the individual events counts in each bin (bar length).\n",
    "\n"
   ]
  },
  {
   "cell_type": "code",
   "execution_count": 130,
   "metadata": {},
   "outputs": [
    {
     "data": {
      "image/png": "[encoded data removed]",
      "text/plain": [
       "<Figure size 432x288 with 1 Axes>"
      ]
     },
     "metadata": {},
     "output_type": "display_data"
    }
   ],
   "source": [
    "plt.hist(y1,bins=9,width=2,color=\"purple\")\n",
    "plt.show()"
   ]
  },
  {
   "cell_type": "markdown",
   "metadata": {},
   "source": [
    "### 1.2. For the same data create a box-whisker plot"
   ]
  },
  {
   "cell_type": "code",
   "execution_count": 131,
   "metadata": {},
   "outputs": [
    {
     "data": {
      "image/png": "[encoded data removed]",
      "text/plain": [
       "<Figure size 432x288 with 1 Axes>"
      ]
     },
     "metadata": {},
     "output_type": "display_data"
    }
   ],
   "source": [
    "\n",
    "plt.boxplot(y1)\n",
    "plt.xticks([1],[\"Feb 28th temperature\"])\n",
    "plt.show()\n",
    "\n",
    "\n"
   ]
  },
  {
   "cell_type": "code",
   "execution_count": 133,
   "metadata": {},
   "outputs": [
    {
     "data": {
      "image/png": "[encoded data removed]",
      "text/plain": [
       "<Figure size 432x288 with 1 Axes>"
      ]
     },
     "metadata": {},
     "output_type": "display_data"
    }
   ],
   "source": [
    "# You can create also horizontal Box-whisker plots\n",
    "# With some more effort you can also place several box-whisker \n",
    "# next to each other: The trick is to form a list with two or more \n",
    "# numpy arrays.\n",
    "\n",
    "# For more options (e.g. how to fill the IQR box with color)\n",
    "# see https://matplotlib.org/gallery/statistics/boxplot_color.html\n",
    "y2=1.5*y1-5\n",
    "plt.boxplot([y1,y2],vert=False)\n",
    "plt.yticks([1,2],[\"sample 1\",\"sample 2\"])\n",
    "plt.show()\n"
   ]
  },
  {
   "cell_type": "markdown",
   "metadata": {},
   "source": [
    "### Summary statistics for the Feb 28th sample"
   ]
  },
  {
   "cell_type": "code",
   "execution_count": 134,
   "metadata": {},
   "outputs": [
    {
     "name": "stdout",
     "output_type": "stream",
     "text": [
      "Summary statistics for the temperature sample:\n",
      "--------------------------------------------------\n",
      "mean    28.64F\n",
      "stddev  8.97F\n",
      "min     9.0F\n",
      "max     46.0F\n",
      "--------------------------------------------------\n",
      "Year with minimum temperature: 1950\n",
      "Year with maximum temperature: 2017\n",
      "--------------------------------------------------\n",
      "years sorted by temperature:\n",
      "0 1950 9.0\n",
      "1 2014 10.5\n",
      "2 2008 11.0\n",
      "3 1994 12.5\n",
      "4 1964 13.5\n",
      "5 2015 14.0\n",
      "6 1980 16.0\n",
      "7 1993 16.5\n",
      "8 2006 17.0\n",
      "9 1978 18.0\n",
      "10 1973 18.0\n",
      "11 1982 19.0\n",
      "12 1963 20.0\n",
      "13 1957 20.5\n",
      "14 2001 21.5\n",
      "15 1956 22.0\n",
      "16 2003 22.5\n",
      "17 1990 23.0\n",
      "18 1986 23.0\n",
      "19 2005 23.5\n",
      "20 1953 24.0\n",
      "21 1985 24.5\n",
      "22 2009 25.0\n",
      "23 1970 25.5\n",
      "24 1969 25.5\n",
      "25 1989 26.0\n",
      "26 1988 26.0\n",
      "27 2002 26.0\n",
      "28 1987 26.5\n",
      "29 1960 28.0\n",
      "30 1981 28.5\n",
      "31 1991 29.0\n",
      "32 1952 29.5\n",
      "33 2004 29.5\n",
      "34 1967 29.5\n",
      "35 1968 29.5\n",
      "36 1995 30.0\n",
      "37 1965 30.0\n",
      "38 1992 30.0\n",
      "39 1959 30.0\n",
      "40 2007 31.0\n",
      "41 1966 31.0\n",
      "42 1951 31.5\n",
      "43 1975 31.5\n",
      "44 1999 31.5\n",
      "45 1984 32.0\n",
      "46 1997 34.0\n",
      "47 1977 34.0\n",
      "48 1962 34.5\n",
      "49 1961 34.5\n",
      "50 2012 35.0\n",
      "51 2010 35.0\n",
      "52 1979 35.5\n",
      "53 1972 36.0\n",
      "54 1996 36.0\n",
      "55 1971 36.5\n",
      "56 2011 36.5\n",
      "57 1958 37.0\n",
      "58 1955 38.0\n",
      "59 1983 38.5\n",
      "60 1976 39.0\n",
      "61 2013 39.0\n",
      "62 1974 41.5\n",
      "63 1998 42.0\n",
      "64 2000 42.5\n",
      "65 1954 42.5\n",
      "66 2016 44.5\n",
      "67 2017 46.0\n",
      "68 2018 46.0\n",
      "==============\n",
      "We see that we must be careful with the np.argmin, np.argmax functions.\n",
      "Ties in the maximum value occurred 2017, 2018.\n"
     ]
    }
   ],
   "source": [
    "ymean=np.mean(y1)\n",
    "ystd=np.std(y1)\n",
    "ymin=np.min(y1)\n",
    "ymax=np.max(y1)\n",
    "\n",
    "unit=\"F\"\n",
    "# note I use here a special purpose string \n",
    "print(\"Summary statistics for the temperature sample:\")\n",
    "print(50*\"-\")\n",
    "print(\"mean    \"+str(round(ymean,2))+unit)\n",
    "print(\"stddev  \"+str(round(ystd,2))+unit)\n",
    "print(\"min     \"+str(round(ymin,2))+unit)\n",
    "print(\"max     \"+str(round(ymax,2))+unit)\n",
    "print(50*\"-\")\n",
    "\n",
    "imin=np.argmin(y1)\n",
    "imax=np.argmax(y1)\n",
    "\n",
    "print (\"Year with minimum temperature: \"+str(year[imin]))\n",
    "print (\"Year with maximum temperature: \"+str(year[imax]))\n",
    "print (50*\"-\")\n",
    "irank=np.argsort(y1)\n",
    "print (\"years sorted by temperature:\")\n",
    "k=0\n",
    "while k<len(y1):\n",
    "    print(k,year[irank[k]],y1[irank[k]])\n",
    "    k=k+1\n",
    "print(14*\"=\")\n",
    "print(\"We see that we must be careful with the np.argmin, np.argmax functions.\")\n",
    "print(\"Ties in the maximum value occurred 2017, 2018.\")"
   ]
  },
  {
   "cell_type": "markdown",
   "metadata": {},
   "source": [
    "<p style=\"color:gold;background-color:purple;font-size:130%\">\n",
    "    <BR>Task 2: Quantitative statistics with numpy<BR><BR>\n",
    "\n",
    "\n",
    "### 2.1 Now copy your code into the cell below and modify your code: Select all daily data from Feburary months 1950-2018 and apply the numpy functions:\n",
    "\n",
    "\n",
    "- _np.mean_ \n",
    "- _np.std_\n",
    "- _np.min_\n",
    "- _np.max_\n"
   ]
  },
  {
   "cell_type": "code",
   "execution_count": 135,
   "metadata": {},
   "outputs": [
    {
     "name": "stdout",
     "output_type": "stream",
     "text": [
      "Summary statistics for the temperature sample:\n",
      "--------------------------------------------------\n",
      "mean    24.93F\n",
      "stddev  10.6F\n",
      "min     -6.5F\n",
      "max     57.5F\n",
      "--------------------------------------------------\n"
     ]
    }
   ],
   "source": [
    "i=0\n",
    "date=None\n",
    "xlist=[] # use to store the dates\n",
    "ylist=[] # use to store the temperatures\n",
    "# storing years, month and day as numbers\n",
    "yearlist =[]\n",
    "monthlist = []\n",
    "daylist =[]\n",
    "while i < len(x):\n",
    "    date=x[i]\n",
    "    if date.month == 2: \n",
    "        xlist.append(date) # date is x[i]\n",
    "        yearlist.append(date.year)\n",
    "        monthlist.append(date.month)\n",
    "        daylist.append(date.day)\n",
    "        ylist.append(y[i])\n",
    "    i=i+1\n",
    "    # end of loop\n",
    "y1=np.array(ylist)\n",
    "ymean=np.mean(y1)\n",
    "ystd=np.std(y1)\n",
    "ymin=np.min(y1)\n",
    "ymax=np.max(y1)\n",
    "\n",
    "unit=\"F\"\n",
    "# note I use here a special purpose string \n",
    "print(\"Summary statistics for the temperature sample:\")\n",
    "print(50*\"-\")\n",
    "print(\"mean    \"+str(round(ymean,2))+unit)\n",
    "print(\"stddev  \"+str(round(ystd,2))+unit)\n",
    "print(\"min     \"+str(round(ymin,2))+unit)\n",
    "print(\"max     \"+str(round(ymax,2))+unit)\n",
    "print(50*\"-\")"
   ]
  },
  {
   "cell_type": "markdown",
   "metadata": {},
   "source": [
    "<p style=\"color:gold;background-color:purple;font-size:130%\">\n",
    "    <BR>Task 3: Apply your Python skills and create a climatology plot<BR><BR>\n",
    "        \n",
    "Think about a way to produce a summary graph for the Albany temperature (min, max and daily mean temperatures) climatology using the years 1981-2010.\n",
    "\n",
    "The figure below has more information in it. We want to make a cleaner version just for temperatures."
   ]
  },
  {
   "cell_type": "code",
   "execution_count": null,
   "metadata": {},
   "outputs": [],
   "source": [
    "# create a loop so we can process all 12 month"
   ]
  },
  {
   "cell_type": "code",
   "execution_count": 138,
   "metadata": {},
   "outputs": [],
   "source": [
    "# remember x and y are lists with the all dates and all temperature, respectively \n",
    "monmean= [] # store all monthly means in this list\n",
    "monstd= [] # store all monthly standard deviations\n",
    "monmin= [] # store all monthly minima\n",
    "monmax = [] # store all monthly maxima\n",
    "monindex = [] # store the month index number\n",
    "for m in [1,2,3,4,5,6,7,8,9,10,11,12]:\n",
    "    i=0\n",
    "    date=None\n",
    "    xlist=[] # use to store the dates\n",
    "    ylist=[] # use to store the temperatures\n",
    "    # storing years, month and day as numbers\n",
    "    yearlist =[]\n",
    "    monthlist = []\n",
    "    daylist =[] \n",
    "    while i < len(x):\n",
    "        date=x[i]\n",
    "        if date.month == m and date.year>=1981 and date.year<=2010: \n",
    "            xlist.append(date) # date is x[i]\n",
    "            yearlist.append(date.year)\n",
    "            monthlist.append(date.month)\n",
    "            daylist.append(date.day)\n",
    "            ylist.append(y[i])\n",
    "        i=i+1\n",
    "        # end of loop over temperature sample\n",
    "    y1=np.array(ylist)\n",
    "    year=np.array(yearlist)\n",
    "    month=np.array(monthlist)\n",
    "    day=np.array(daylist)\n",
    "    monmean.append(np.mean(y1))\n",
    "    monstd.append(np.std(y1))\n",
    "    monmin.append(np.min(y1))\n",
    "    monmax.append(np.max(y1))\n",
    "    monindex.append(m)\n",
    "    # end loop over month"
   ]
  },
  {
   "cell_type": "code",
   "execution_count": 142,
   "metadata": {},
   "outputs": [
    {
     "data": {
      "image/png": "[encoded data removed]",
      "text/plain": [
       "<Figure size 432x288 with 1 Axes>"
      ]
     },
     "metadata": {},
     "output_type": "display_data"
    },
    {
     "name": "stdout",
     "output_type": "stream",
     "text": [
      "check year range:  1981 2010\n"
     ]
    }
   ],
   "source": [
    "plt.plot(monindex,monmean,color='black',linewidth=2,label='average')\n",
    "plt.plot(monindex,monmin,color='blue',label='minimum observed')\n",
    "plt.plot(monindex,monmax,color='red',label='maximum observed')\n",
    "plt.xlabel(\"month\")\n",
    "plt.title(\"Albany daily mean temperature climatology 1981-2010\")\n",
    "plt.xticks([1,2,3,4,5,6,7,8,9,10,11,12],['Jan','Feb','Mar','Apr','May','Jun',\n",
    "                                         'Jul','Aug','Sep','Oct','Nov','Dec'])\n",
    "plt.legend()\n",
    "plt.show()\n",
    "print(\"check year range: \",np.min(year),np.max(year))"
   ]
  },
  {
   "cell_type": "markdown",
   "metadata": {},
   "source": [
    "### The data table one could fill out by hand. But we have already the plot as summary. So, that's sufficient. Below is a code that prints the numbers for us, though."
   ]
  },
  {
   "cell_type": "markdown",
   "metadata": {},
   "source": [
    "Table 1: Summary statistic for all February temperatures 1981-2010\n",
    "\n",
    "| Month  | Mean |  Std |  Min  |  Max  | \n",
    "|--------|------|------|-------|-------|\n",
    "| Feb    | 26.13| 10.05|  -2.5 |54.5   |\n",
    "\n"
   ]
  },
  {
   "cell_type": "code",
   "execution_count": 144,
   "metadata": {},
   "outputs": [
    {
     "name": "stdout",
     "output_type": "stream",
     "text": [
      "| Month | mean | stddev | min | max |\n",
      "Jan       22.8   11.7   -7.5 60.5\n",
      "Feb       26.13   10.05   -2.5 54.5\n",
      "Mar       35.08   10.06   4.0 71.0\n",
      "Apr       47.71   8.68   19.0 74.5\n",
      "May       58.23   7.51   39.5 78.0\n",
      "Jun       67.12   6.51   49.5 83.0\n",
      "Jul       71.66   5.3   57.0 86.5\n",
      "Aug       70.07   5.84   50.5 85.0\n",
      "Sep       61.88   7.17   42.5 81.0\n",
      "Oct       49.82   7.82   31.5 73.5\n",
      "Nov       39.95   8.58   15.5 67.5\n",
      "Dec       28.62   9.65   -2.0 61.5\n"
     ]
    }
   ],
   "source": [
    "m=0\n",
    "monlabel=['Jan','Feb','Mar','Apr','May','Jun','Jul','Aug','Sep','Oct','Nov','Dec']\n",
    "print (\"| Month | mean | stddev | min | max |\")\n",
    "while m<len(monlabel):\n",
    "    line=monlabel[m]+\"       \"+str(round(monmean[m],2))+\"   \"+str(round(monstd[m],2))+\\\n",
    "    \"   \"+str(round(monmin[m],2))+\" \"+str(round(monmax[m],2))\n",
    "    print (line)\n",
    "    m=m+1\n"
   ]
  },
  {
   "cell_type": "markdown",
   "metadata": {},
   "source": [
    "Almost acceptable the formatting. We applied the function _round_ above\n",
    "and converted the resulting number into strings.\n",
    "\n",
    "For those of you who want always the same number of decimals for a clean table layout, see below.\n"
   ]
  },
  {
   "cell_type": "code",
   "execution_count": 145,
   "metadata": {},
   "outputs": [
    {
     "name": "stdout",
     "output_type": "stream",
     "text": [
      "Month     mean    stddev    min     max\n",
      "Jan       22.80   11.70   -7.50   60.50\n",
      "Feb       26.13   10.05   -2.50   54.50\n",
      "Mar       35.08   10.06    4.00   71.00\n",
      "Apr       47.71    8.68   19.00   74.50\n",
      "May       58.23    7.51   39.50   78.00\n",
      "Jun       67.12    6.51   49.50   83.00\n",
      "Jul       71.66    5.30   57.00   86.50\n",
      "Aug       70.07    5.84   50.50   85.00\n",
      "Sep       61.88    7.17   42.50   81.00\n",
      "Oct       49.82    7.82   31.50   73.50\n",
      "Nov       39.95    8.58   15.50   67.50\n",
      "Dec       28.62    9.65   -2.00   61.50\n"
     ]
    }
   ],
   "source": [
    "m=0\n",
    "monlabel=['Jan','Feb','Mar','Apr','May','Jun','Jul','Aug','Sep','Oct','Nov','Dec']\n",
    "print (\"Month     mean    stddev    min     max\")\n",
    "while m<len(monlabel):\n",
    "    # if code lines get too long you can use the \\ at the end and continue the line\n",
    "    # o nthe next line\n",
    "    print (monlabel[m]+\"     %7.2f %7.2f %7.2f %7.2f\" %(round(monmean[m],2),\\\n",
    "                                                  round(monstd[m],2),\\\n",
    "                                                  round(monmin[m],2),\\\n",
    "                                                  round(monmax[m],2)))\n",
    "    m=m+1"
   ]
  },
  {
   "cell_type": "markdown",
   "metadata": {},
   "source": [
    "---\n",
    "## Summary:\n",
    "\n",
    "This notebook solved a few simple plotting tasks, and a more complex problem in the end.\n",
    "We see that it is possible to construct Python code with loops, and use the list-appending to prepare our sample data for the statistical data analysis. \n",
    "\n",
    "We make use of the concepts and methods that we have learned before: \n",
    "nested loops and if statements for flow control. \n",
    "\n",
    "So far we stored our data in 1-dimensional arrays. The data table in the end is a 2-dimension data table. Such information can be stored in 2-dimensional arrays. These 2-dimensional arrays will be introduced in the upcoming units.\n",
    "\n",
    "One can format numbers in the print function using special string components such as '%f7.2'. This gives us the best control on how the numbers will be printed.\n",
    "The general syntax is given below: Two flot numbers with two digits and a total string length of 7 characters.\n",
    "\n",
    "*print(\"test %7.2f  and %7.2f\" % ( -12.1234, 1/12.0)*\n",
    "\n"
   ]
  },
  {
   "cell_type": "markdown",
   "metadata": {},
   "source": [
    "### Further References:\n",
    "- [GHCND](https://www.ncdc.noaa.gov/ghcn-daily-description)\n",
    "- FTP site with station ids etc: ftp://ftp.ncdc.noaa.gov/pub/data/ghcn/daily/"
   ]
  }
 ],
 "metadata": {
  "kernelspec": {
   "display_name": "Python 3",
   "language": "python",
   "name": "python3"
  },
  "language_info": {
   "codemirror_mode": {
    "name": "ipython",
    "version": 3
   },
   "file_extension": ".py",
   "mimetype": "text/x-python",
   "name": "python",
   "nbconvert_exporter": "python",
   "pygments_lexer": "ipython3",
   "version": "3.6.7"
  }
 },
 "nbformat": 4,
 "nbformat_minor": 2
}
