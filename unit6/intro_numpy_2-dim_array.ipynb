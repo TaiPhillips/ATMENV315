{
 "cells": [
  {
   "cell_type": "markdown",
   "metadata": {},
   "source": [
    "# 2-dim numpy arrays\n",
    "\n",
    "\n",
    "## a visual guide to the row and collumn index system and some oddities with plot functions plt.contour() plt.imshow()"
   ]
  },
  {
   "cell_type": "code",
   "execution_count": 1,
   "metadata": {},
   "outputs": [],
   "source": [
    "%matplotlib inline"
   ]
  },
  {
   "cell_type": "code",
   "execution_count": 2,
   "metadata": {},
   "outputs": [],
   "source": [
    "import numpy as np\n",
    "import matplotlib.pyplot as plt\n"
   ]
  },
  {
   "cell_type": "markdown",
   "metadata": {},
   "source": [
    "## 2-dimensional arrays\n",
    "\n",
    "Numpy allow us to create 2-dimensional arrays:"
   ]
  },
  {
   "cell_type": "code",
   "execution_count": 3,
   "metadata": {},
   "outputs": [
    {
     "name": "stdout",
     "output_type": "stream",
     "text": [
      "Shape of the array we get from the object with a.shape:  (2, 3)\n",
      "Shape information with np.shape(a):  (2, 3)\n",
      "Size of the array is the number of elements in a: np.size(a) =   6\n",
      "or a.size = 6\n",
      "----------------------------------------\n",
      "Caution: the Python function len(a) returns only the length of array along the first dimension:\n",
      "len(a)=  2\n",
      "----------------------------------------\n",
      "Slicing operations: See  the examples in the numpy.intro.pdf document!\n",
      "a[1,:] =  [4. 5. 6.]\n",
      "a[:,0] =  [1. 4.]\n"
     ]
    }
   ],
   "source": [
    "a = np.array([[1, 2, 3], [4, 5, 6]], float)\n",
    "print (\"Shape of the array we get from the object with a.shape: \",a.shape)\n",
    "print (\"Shape information with np.shape(a): \", np.shape(a))\n",
    "print (\"Size of the array is the number of elements in a: np.size(a) =  \", np.size(a))\n",
    "print (\"or a.size =\",a.size)\n",
    "\n",
    "print (40*\"-\")\n",
    "print (\"Caution: the Python function len(a) returns only the length of array along the first dimension:\")\n",
    "print (\"len(a)= \",len(a))\n",
    "print (40*\"-\")\n",
    "\n",
    "print (\"Slicing operations: See  the examples in the numpy.intro.pdf document!\")\n",
    "print (\"a[1,:] = \", a[1,:])\n",
    "print (\"a[:,0] = \", a[:,0])\n",
    "\n"
   ]
  },
  {
   "cell_type": "markdown",
   "metadata": {},
   "source": [
    "## Visual presentation of 2-dim arrays\n",
    "\n",
    "\n",
    "The first dimension represents the rows, the second dimension the columns.\n",
    "\n",
    "The function _plt.imshow_ uses an axis coordinate system that by default\n",
    "puts the origin into the top-left of the figure.\n",
    "\n",
    "You can change it with the keyword parameter origin=\"lower\" to get the rows 'upside-down' in the image.\n"
   ]
  },
  {
   "cell_type": "code",
   "execution_count": 17,
   "metadata": {},
   "outputs": [
    {
     "data": {
      "image/png": "[encoded data removed]",
      "text/plain": [
       "<Figure size 432x288 with 2 Axes>"
      ]
     },
     "metadata": {},
     "output_type": "display_data"
    }
   ],
   "source": [
    "# plotting the 2-dimensional array\n",
    "a = np.array([[1, 2, 3], [4, 5, 6]], float)\n",
    "fig=plt.figure()\n",
    "plt.imshow(a)\n",
    "plt.xticks([0,1,2])\n",
    "plt.yticks([0,1])\n",
    "for i in [0,1,2]:\n",
    "    for j in [0,1]:\n",
    "        plt.text(i-0.4,j,\"(\"+str(i)+\",\"+str(j)+\") = \"+str(a[j,i]),fontsize=14,color='white')\n",
    "plt.colorbar()\n",
    "plt.show()"
   ]
  },
  {
   "cell_type": "markdown",
   "metadata": {},
   "source": [
    "## plt.contour, plt.contourf, plt.pcolormesh \n",
    "\n",
    "These functions use an axis coordinate system that by default puts the origin into the bottom-left of the figure."
   ]
  },
  {
   "cell_type": "code",
   "execution_count": 7,
   "metadata": {},
   "outputs": [
    {
     "data": {
      "image/png": "[encoded data removed]",
      "text/plain": [
       "<Figure size 432x288 with 2 Axes>"
      ]
     },
     "metadata": {},
     "output_type": "display_data"
    }
   ],
   "source": [
    "# plotting\n",
    "plt.contourf(a)\n",
    "plt.colorbar()\n",
    "plt.show()"
   ]
  },
  {
   "cell_type": "markdown",
   "metadata": {},
   "source": [
    "## Summary\n",
    "\n",
    "If you want to visualize a 2-dim numpy array that is consistent with the index system, use _plt.imshow_. \n",
    "\n",
    "Plt.contour and related functions are best used by providing x and y coordinates together with the data array that you want to display. See examples in the notebook with the world topography data."
   ]
  }
 ],
 "metadata": {
  "kernelspec": {
   "display_name": "Python 3",
   "language": "python",
   "name": "python3"
  },
  "language_info": {
   "codemirror_mode": {
    "name": "ipython",
    "version": 3
   },
   "file_extension": ".py",
   "mimetype": "text/x-python",
   "name": "python",
   "nbconvert_exporter": "python",
   "pygments_lexer": "ipython3",
   "version": "3.6.7"
  }
 },
 "nbformat": 4,
 "nbformat_minor": 2
}
