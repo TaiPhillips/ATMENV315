{
 "cells": [
  {
   "cell_type": "markdown",
   "metadata": {},
   "source": [
    "# World Topography ETOPO\n",
    "\n",
    "The world topography with 1 degree resolution is provided in local file. \n",
    "The data format is called NetCDF. NetCDF files include 'metadata' information\n",
    "and are 'self-describing'. Code packages and library exist for reading and writing\n",
    "NetCDF files.\n",
    "\n",
    "Our file contains the topography information (elevation for land, ocean floor depth)\n",
    "and the grid information with longitude and latitude coordinates.\n",
    "The most convenient way of reading (and creating) NetCDF files with Python is a package\n",
    "called *xarray*. \n",
    "\n"
   ]
  },
  {
   "cell_type": "code",
   "execution_count": null,
   "metadata": {},
   "outputs": [],
   "source": [
    "%matplotlib inline"
   ]
  },
  {
   "cell_type": "code",
   "execution_count": null,
   "metadata": {},
   "outputs": [],
   "source": [
    "import numpy as np\n",
    "import matplotlib.pylab as plt\n",
    "import xarray as xd\n"
   ]
  },
  {
   "cell_type": "markdown",
   "metadata": {},
   "source": [
    "## Reading data from a NetCDF file\n",
    "\n",
    "### What is NetCDF format and who uses it? \n",
    "NetCDF is a common data format used in atmospheric, ocean and climate sciences. Many model data output is \n",
    "distributed in NetCDF format. You also find remote sensing products in NetCDF format. The format is platform independent, and it is self-describing. That is all "
   ]
  },
  {
   "cell_type": "code",
   "execution_count": null,
   "metadata": {},
   "outputs": [],
   "source": [
    "# PATH to the local NetCDF file\n",
    "# and NetCDF file name\n",
    "data_path=\"/home11/staff/timm/Public/Data/\"\n",
    "data_file=data_path+\"etopo60.cdf\"\n",
    "\n",
    "print(\"open the data file \"+data_file)\n",
    "try:\n",
    "    nc=xd.open_dataset(data_file) # opens the NetCDF\n",
    "    failed=False\n",
    "except:\n",
    "    print(\"failed\")\n",
    "    failed=True\n",
    "if not failed:\n",
    "    nc.get('rose')\n",
    "    print(nc.data_vars)\n",
    "    topo2d=np.array(nc['ROSE']) # ROSE is the NetCDF variable name for the topography data\n",
    "    lon=np.array(nc['ETOPO60X']) # NetCDF variable name for the longitude\n",
    "    lat=np.array(nc['ETOPO60Y']) # NetCDF variable name for the latitude\n",
    "    lon2d, lat2d =np.meshgrid(lon, lat) # takes lon and lat data and makes a full 2-d grid filled with lat and lon values\n",
    "    print(\"found longitudes, latitudes, and topography data\")\n",
    "    print(\"shape of array variable topo2d: \",np.shape(topo2d))\n",
    "    print(\"shape of array variable lon2d : \",np.shape(lon2d))\n",
    "    print(\"shape of array variable lat2d : \",np.shape(lat2d))\n",
    "    print(\"------------------------------------------------\")\n",
    "    print(\"shape of array variable lat   : \", np.shape(lat))\n",
    "    print(\"shape of array variable lon   : \", np.shape(lon))\n",
    "    \n",
    "    print(80*'=')\n",
    "    print(\"Now let's make some plots ...\")\n",
    "    "
   ]
  },
  {
   "cell_type": "markdown",
   "metadata": {},
   "source": [
    "# 1 Plotting 2-dim data"
   ]
  },
  {
   "cell_type": "markdown",
   "metadata": {},
   "source": [
    "## Variables that contain our data:\n",
    "\n",
    "- topo2d: a 2-dimensional array with elevation heights and ocean depth data\n",
    "- lon2d : a 2-dimensional array with longitude grid coordinates (matches dimension of variable topo)\n",
    "- lat2d : a 2-dimensional array with latitude grid coordinates (matches dimension of variable topo)\n",
    "\n",
    "- lon and lat: 1-dimensional arrays with the coordinates.\n"
   ]
  },
  {
   "cell_type": "markdown",
   "metadata": {},
   "source": [
    "## User defined variables for plot customization"
   ]
  },
  {
   "cell_type": "code",
   "execution_count": null,
   "metadata": {},
   "outputs": [],
   "source": [
    "# plot customization\n",
    "# lev: levels for color shading\n",
    "# cm:  colormap for fill colors\n",
    "lev=np.arange(-8000,8500,500) # 1-d numpy array \n",
    "cm=plt.get_cmap('gist_earth')\n",
    "xlabel=\"Longitude\"\n",
    "ylabel=\"Latitude\"\n",
    "title=\"Word Topography & Ocean Bathymetry\""
   ]
  },
  {
   "cell_type": "markdown",
   "metadata": {},
   "source": [
    "## 1.1 Contour plot\n",
    "\n",
    "We make use of the function plt.contour. "
   ]
  },
  {
   "cell_type": "code",
   "execution_count": null,
   "metadata": {},
   "outputs": [],
   "source": [
    "# a map with contour lines contour plot\n",
    "plt.figure(figsize=[8,6])\n",
    "plt.contour(lon2d,lat2d,topo2d,levels=lev,cmap=cm)\n",
    "plt.colorbar()\n",
    "plt.xlabel(xlabel)\n",
    "plt.ylabel(ylabel)\n",
    "plt.title(title)\n",
    "\n",
    "plt.grid()\n",
    "plt.show()\n"
   ]
  },
  {
   "cell_type": "markdown",
   "metadata": {},
   "source": [
    "## 1.2 Filled contour plot\n",
    "\n",
    "We make use of the function plt.contourf. "
   ]
  },
  {
   "cell_type": "code",
   "execution_count": null,
   "metadata": {},
   "outputs": [],
   "source": [
    "# map with filled contours"
   ]
  },
  {
   "cell_type": "markdown",
   "metadata": {},
   "source": [
    "## 1.3 Shaded 'mesh' plot \n",
    "\n",
    "We make use of the function plt.pcolormesh. "
   ]
  },
  {
   "cell_type": "code",
   "execution_count": null,
   "metadata": {},
   "outputs": [],
   "source": [
    "# map with 'grid-tile' filled plots\n",
    "# pcolormesh does not have the keyword parameter lev! Bummer! \n",
    "# We have to use keword parameters vmin and vmax\n",
    "# to give the range of the data for our colorscale."
   ]
  },
  {
   "cell_type": "markdown",
   "metadata": {},
   "source": [
    "## 1.4 Show the 2-d array as an 'image'\n",
    "\n",
    "We make use of the function plt.imshow. \n",
    "\n",
    "<P style=\"color:red\"> \n",
    "    There is a 'problem'! \n",
    "    <BR>\n",
    "    plt.imshow() follows a convention used in image processing: the origin is in the top left corner.\n",
    "</P>\n",
    "You can see what that does. It turns our view the world up-side-down.\n",
    "In all the other plots we have to provide x and y coordinates to display the 2-d array, *imshow*\n",
    "just uses index coordinate system.\n",
    " \n",
    "\n",
    "\n",
    "\n"
   ]
  },
  {
   "cell_type": "code",
   "execution_count": null,
   "metadata": {},
   "outputs": [],
   "source": [
    "# map with filled contours\n",
    "plt.figure(figsize=[8,6])\n",
    "# pcolormesh does not have the keyword parameter lev! Bummer! we have to use vmin and vmax\n",
    "# to give the range of the data for our colorscale.\n",
    "plt.imshow(topo2d,cmap=cm)\n",
    "plt.colorbar()\n",
    "plt.xlabel(\"column index\")\n",
    "plt.ylabel(\"row index\")\n",
    "plt.title(title)\n",
    "plt.grid()\n",
    "plt.show()\n"
   ]
  },
  {
   "cell_type": "markdown",
   "metadata": {},
   "source": [
    "Use plt.imshow plot to plot the latitude coordinates stored in lat2d! "
   ]
  },
  {
   "cell_type": "code",
   "execution_count": null,
   "metadata": {},
   "outputs": [],
   "source": []
  },
  {
   "cell_type": "markdown",
   "metadata": {},
   "source": [
    "## 2 Subsampling 2-dimensional arrays \n",
    "## Select North America (USA) rectangular grid and create a new map\n",
    "\n",
    "Let's zoom into the North American continent region:\n",
    "Select from the 2-dim arrays the range\n",
    " - latitude: 20N-60N\n",
    " - longitude: 230E - 310E\n",
    "\n",
    "### 2.1 Let's start with finding the index ranges by trial and error:\n",
    "\n",
    "Use the 1-dim array variables  *lon*, and *lat* and find the index positions and j1, j2 in array *lon*\n",
    "that are giving you the longitudes 230E and 310E. \n",
    "\n",
    "The same way find the index positions i1,i2 in array *lat*\n",
    "that are giving you the latitudes 20N - 60N.\n",
    "\n",
    "Subsample the 2dim arrays lat2d, lon2d, topo2d using these index ranges and plot the topography of the subsampled region.\n",
    "\n",
    "\n"
   ]
  },
  {
   "cell_type": "code",
   "execution_count": null,
   "metadata": {},
   "outputs": [],
   "source": [
    "# Manual solution: Look up in lat2d the row index for 20N to 60 deg N"
   ]
  },
  {
   "cell_type": "markdown",
   "metadata": {},
   "source": [
    "### 2.2 Find the position with numpy code options\n",
    "\n",
    "Now apply the boolean expressions and use function *np.logical_and* to check the values to create an array containing _True_  or _False_ for selecting the latitude and longitude ranges. Remember to assign the returned array to a new variable so you can make use of the True-False values in the next steps!  \n",
    "\n",
    "\n",
    "Solve the problem in two steps: \n",
    "\n",
    " - 1) subsample in latitude and confirm by plotting the subsampled array lat2d, lon2d, topo2d and assign the resulting arrays to new variables. Validate your results by making a plot of the topography (or latitude).\n",
    " \n",
    " - 2) use the newly assigned variables with the subsampled arrays and apply similar methods for the subsampling in longitude. Confirm your results by making a plot of the topography.\n",
    " "
   ]
  },
  {
   "cell_type": "code",
   "execution_count": null,
   "metadata": {},
   "outputs": [],
   "source": [
    "# a subsample latitude \n",
    "is_lat=np.logical_and(lat>20,lat<60)\n",
    "\n",
    "topo2d_s1=topo2d[is_lat,:]\n",
    "lat2d_s1=lat2d[is_lat,:]\n",
    "lon2d_s1=lon2d[is_lat,:]\n",
    "\n",
    "# plot subsampled result\n",
    "\n",
    "# b subsample in longitude\n",
    "\n",
    "# plot North America sector\n"
   ]
  },
  {
   "cell_type": "markdown",
   "metadata": {},
   "source": [
    "\n",
    "### 2.3: (Optional) Plot a cross section at 40.5N (from 0 to 360 deg longitude)\n",
    "\n",
    "One way to do this is to use the function np.where().\n",
    "\n",
    "Subsampling can reduce the dimension from 2-dim (topo) into 1-dim. However, that is not happening automatically.\n",
    "**Check the shape of the resulting array when you subsample your 2dim array _topo2d_.** \n",
    "\n",
    "Look up the function _np.reshape_. You will have to create a new array of shape (360) before we can plot it. For this purpose the function _np.reshape_ can be applied.\n",
    "\n",
    "(Allow yourself as many variable assignments as you need to store intermediate results. Later you may find ways to optimize the code.)\n",
    "\n"
   ]
  },
  {
   "cell_type": "code",
   "execution_count": null,
   "metadata": {},
   "outputs": [],
   "source": [
    "sel_lat=np.where(lat==40.5)\n",
    "# explore first what sel_lat is: type, dimension/shape etc.\n",
    "# then find a way to use it for an index operation with topo2d etc.\n"
   ]
  },
  {
   "cell_type": "markdown",
   "metadata": {},
   "source": [
    "## 2.4: Create a histogram of land elevation points that are above sea level (0m) \n",
    "\n",
    "Apply the function np.where and subsample topo2d according to the the requirement that topo2d > 0.\n",
    "Plot the histogram and choose a good number of bins for the plot.\n"
   ]
  },
  {
   "cell_type": "code",
   "execution_count": null,
   "metadata": {},
   "outputs": [],
   "source": []
  },
  {
   "cell_type": "markdown",
   "metadata": {},
   "source": [
    "## Summary:\n",
    "\n",
    "### Useful matplotlib.pyplot functions for displaying 2-dimensional data\n",
    "\n",
    "- *plt.contour*  : draws isolines depicting regions of equal value \n",
    "- *plt.contourf* : similar to contour plot but draws filled contours\n",
    "- *plt.meshgrid* : graticule plot of the 2dimensional data using fill colors to depict the values\n",
    "\n",
    "Different behavior we find in the way the 2-dim array is displayed when using plt.imshow\n",
    "- plt.imshow\n",
    "\n",
    "The 2-dimensional data array is using index coordinate system similar to that of a spreadsheet table. The top left cell is the first row and first column in the 2-dim data array. Function _plt.imshow()_ uses fill colors to colorize the image pixels according to the values in the 2-d array. Top left grid point corresponds to the value in the first row and first column. Function _plt.imshow()_ has a keyword parameter _origin_. You can use it to change the behavior and have the row index count start at the bottom in your figure.\n",
    "\n",
    "\n",
    "### Numpy index operations\n",
    "\n",
    "- subsampling 2-dimensional arrays can be done directly by providing the index ranges for both dimensions\n",
    "- subsampling with logical expressions need more careful approach:\n",
    "    - first create a logical expression for sampling along the first dimension and save the resuling 2d array\n",
    "    - work with the result from the previous step and create a logical expression for sampling along the second dimension. \n",
    "- np.where is a good method to search for index locations where a logical expression is True. It uses the elements of the array and checks if the logical expression is True. However, this must be done with extra care. \n",
    "\n",
    "\n"
   ]
  },
  {
   "cell_type": "markdown",
   "metadata": {},
   "source": [
    "### Technical Note: What is this NetCDF format?\n",
    "\n",
    "It is data format widely used in atmospheric and climate sciences.  \n",
    "Many observational datasets and weather/ climate model outputs come in this format. \n",
    "If you see data files with an extension  .nc .nc4 .cdf .CDF, these are NetCDF files.\n",
    "\n",
    "Python has a package that can read such data sets, including the metadata.\n",
    "\n"
   ]
  },
  {
   "cell_type": "markdown",
   "metadata": {},
   "source": [
    "\n",
    "## References: \n",
    "- [ETOPO high resolution data set](https://maps.ngdc.noaa.gov/viewers/wcs-client/)\n",
    "- [Unidata NetCDF documentation](https://www.unidata.ucar.edu/software/netcdf/docs/index.html)\n",
    "- [Color maps in matplotlib](https://matplotlib.org/examples/color/colormaps_reference.html)"
   ]
  }
 ],
 "metadata": {
  "kernelspec": {
   "display_name": "Python 3",
   "language": "python",
   "name": "python3"
  },
  "language_info": {
   "codemirror_mode": {
    "name": "ipython",
    "version": 3
   },
   "file_extension": ".py",
   "mimetype": "text/x-python",
   "name": "python",
   "nbconvert_exporter": "python",
   "pygments_lexer": "ipython3",
   "version": "3.6.7"
  }
 },
 "nbformat": 4,
 "nbformat_minor": 2
}
