{
 "cells": [
  {
   "cell_type": "markdown",
   "metadata": {},
   "source": [
    "# Mid-term Review Session \n",
    "\n",
    "This notebook contains examples in relation to the PPT presentation (available through Blackboard course content)\n"
   ]
  },
  {
   "cell_type": "code",
   "execution_count": 10,
   "metadata": {},
   "outputs": [],
   "source": [
    "import numpy as np\n",
    "import matplotlib.pyplot as plt"
   ]
  },
  {
   "cell_type": "markdown",
   "metadata": {},
   "source": [
    "1) How do you recognize a variable assignment?\n",
    "\n",
    "Variable names appear on the left of the equal sign *=*"
   ]
  },
  {
   "cell_type": "code",
   "execution_count": 11,
   "metadata": {},
   "outputs": [],
   "source": [
    "\n",
    "x=1.0\n",
    "y, z = 2.0, 0.0 # assigning two variables on one line\n",
    "e=np.exp(1.0) # e is assigned to the return value of the function call \n",
    "buffer= [1.0, 2.0, 3.0]"
   ]
  },
  {
   "cell_type": "markdown",
   "metadata": {},
   "source": [
    "2) Why should you not use variable names like “print” “len” “int” “else”?\n",
    "\n",
    "Note: Once you run the cell below, you have to restart the kernel to get function len back."
   ]
  },
  {
   "cell_type": "code",
   "execution_count": 3,
   "metadata": {},
   "outputs": [
    {
     "name": "stdout",
     "output_type": "stream",
     "text": [
      "3\n",
      "I was not aware that len was a function name\n"
     ]
    },
    {
     "ename": "TypeError",
     "evalue": "'str' object is not callable",
     "output_type": "error",
     "traceback": [
      "\u001b[0;31m---------------------------------------------------------------------------\u001b[0m",
      "\u001b[0;31mTypeError\u001b[0m                                 Traceback (most recent call last)",
      "\u001b[0;32m<ipython-input-3-0dd4e131f509>\u001b[0m in \u001b[0;36m<module>\u001b[0;34m()\u001b[0m\n\u001b[1;32m      2\u001b[0m \u001b[0mlen\u001b[0m\u001b[0;34m=\u001b[0m\u001b[0;34m\"I was not aware that len was a function name\"\u001b[0m\u001b[0;34m\u001b[0m\u001b[0;34m\u001b[0m\u001b[0m\n\u001b[1;32m      3\u001b[0m \u001b[0mprint\u001b[0m\u001b[0;34m(\u001b[0m\u001b[0mlen\u001b[0m\u001b[0;34m)\u001b[0m\u001b[0;34m\u001b[0m\u001b[0;34m\u001b[0m\u001b[0m\n\u001b[0;32m----> 4\u001b[0;31m \u001b[0mprint\u001b[0m\u001b[0;34m(\u001b[0m\u001b[0mlen\u001b[0m\u001b[0;34m(\u001b[0m\u001b[0mlon\u001b[0m\u001b[0;34m)\u001b[0m\u001b[0;34m)\u001b[0m\u001b[0;34m\u001b[0m\u001b[0;34m\u001b[0m\u001b[0m\n\u001b[0m",
      "\u001b[0;31mTypeError\u001b[0m: 'str' object is not callable"
     ]
    }
   ],
   "source": [
    "lon = np.array(buffer)\n",
    "print (len(lon))\n",
    "len=\"I was not aware that len was a function name\"\n",
    "print(len) \n",
    "print(len(lon))\n"
   ]
  },
  {
   "cell_type": "markdown",
   "metadata": {},
   "source": [
    "3) What is a Docstring?\n",
    "\n",
    "It allows you to document your functions. Users of functions usually won't see the code of the function definition. The docstring is shown when you cal lthe help-function with the function name as argument. See below.\n"
   ]
  },
  {
   "cell_type": "code",
   "execution_count": 12,
   "metadata": {},
   "outputs": [
    {
     "name": "stdout",
     "output_type": "stream",
     "text": [
      "Help on function fahrenheit in module __main__:\n",
      "\n",
      "fahrenheit(T_in_celsius)\n",
      "    Returns the temperature in degrees Fahrenheit. Input temperature in Celsius.\n",
      "    \n",
      "    Example: tf=fahrenheit(10.0)\n",
      "\n"
     ]
    }
   ],
   "source": [
    "def fahrenheit(T_in_celsius): \n",
    "    \"\"\"Returns the temperature in degrees Fahrenheit. Input temperature in Celsius.\n",
    "    \n",
    "    Example: tf=fahrenheit(10.0)\n",
    "    \"\"\"\n",
    "    T_in_fahrenheit=(T_in_celsius * 9 / 5) + 32\n",
    "    return T_in_fahrenheit\n",
    "\n",
    "help(fahrenheit)"
   ]
  },
  {
   "cell_type": "markdown",
   "metadata": {},
   "source": [
    "4) Following nested loops work flow. What is the value of variable counter on line 15? "
   ]
  },
  {
   "cell_type": "code",
   "execution_count": 14,
   "metadata": {},
   "outputs": [
    {
     "name": "stdout",
     "output_type": "stream",
     "text": [
      "filled surface array with data.\n",
      "total iterations:  80\n"
     ]
    },
    {
     "data": {
      "image/png": "[encoded data removed]",
      "text/plain": [
       "<Figure size 432x288 with 2 Axes>"
      ]
     },
     "metadata": {},
     "output_type": "display_data"
    }
   ],
   "source": [
    "surface=np.zeros(shape=[10,8])\n",
    "x=[1,2,3,4,5,6,7,8]\n",
    "y=[1,2,3,4,5,6,7,8,9,10]\n",
    "\n",
    "i=0\n",
    "counter=0\n",
    "while i<len(x):\n",
    "    j=0\n",
    "    while j<len(y):\n",
    "        surface[j,i]=x[i]+y[j]\n",
    "        counter=counter+1\n",
    "        j=j+1\n",
    "    i=i+1\n",
    "print(\"filled surface array with data.\")\n",
    "print(\"total iterations: \",counter)\n",
    "\n",
    "\n",
    "plt.pcolormesh(x,y,surface)\n",
    "plt.colorbar()\n",
    "plt.show()"
   ]
  },
  {
   "cell_type": "markdown",
   "metadata": {},
   "source": [
    "5) Do you understand the difference between defining a function and making use of a function?"
   ]
  },
  {
   "cell_type": "code",
   "execution_count": 15,
   "metadata": {},
   "outputs": [],
   "source": [
    "# function definition \n",
    "def myfunction(x,y,xoffset=0,yoffset=0):\n",
    "    z=(x-xoffset)**2+(y-yoffset)**3\n",
    "    return z"
   ]
  },
  {
   "cell_type": "code",
   "execution_count": 16,
   "metadata": {},
   "outputs": [
    {
     "data": {
      "text/plain": [
       "9"
      ]
     },
     "execution_count": 16,
     "metadata": {},
     "output_type": "execute_result"
    }
   ],
   "source": [
    "# function call\n",
    "\n",
    "myfunction(1,2)"
   ]
  },
  {
   "cell_type": "markdown",
   "metadata": {},
   "source": [
    "6) Do you understand the terms “parameters”, “keyword parameters”, function calls with “arguments”? \n"
   ]
  },
  {
   "cell_type": "code",
   "execution_count": 17,
   "metadata": {},
   "outputs": [
    {
     "name": "stdout",
     "output_type": "stream",
     "text": [
      "9 0 44 35\n"
     ]
    }
   ],
   "source": [
    "z0=myfunction(1,2) \n",
    "z1=myfunction(1,2,yoffset=+3)\n",
    "z2=myfunction(1,2,xoffset=-5)\n",
    "z3=myfunction(1,2,yoffset=+3,xoffset=-5)\n",
    "print (z0,z1,z2,z3)"
   ]
  },
  {
   "cell_type": "markdown",
   "metadata": {},
   "source": [
    "7) Can you write a basic for loop and iterate through all list items of list [‘My’,’for’,’loop’,’was’, ‘a’ ,’success!’]  ?\n"
   ]
  },
  {
   "cell_type": "code",
   "execution_count": 21,
   "metadata": {},
   "outputs": [
    {
     "name": "stdout",
     "output_type": "stream",
     "text": [
      " My\n",
      " My for\n",
      " My for loop\n",
      " My for loop was\n",
      " My for loop was a\n",
      " My for loop was a success!\n"
     ]
    }
   ],
   "source": [
    "line=\"\"\n",
    "# paste together into a string\n",
    "for item in ['My','for','loop','was', 'a' ,'success!']:\n",
    "    line=line+\" \"+item\n",
    "    print (line)\n",
    "  \n",
    "    \n"
   ]
  },
  {
   "cell_type": "markdown",
   "metadata": {},
   "source": [
    "8) Basic slicing operations (subsampling from a list or 1-dim numpy array)\n"
   ]
  },
  {
   "cell_type": "code",
   "execution_count": 25,
   "metadata": {},
   "outputs": [
    {
     "name": "stdout",
     "output_type": "stream",
     "text": [
      "last item:  success!\n",
      "the verb in the list:  was\n"
     ]
    }
   ],
   "source": [
    "xlist=['My','for','loop','was', 'a' ,'success!']\n",
    "last_item=xlist[-1]\n",
    "print (\"last item: \",last_item)\n",
    "verb=xlist[3]\n",
    "print (\"the verb in the list: \",verb)"
   ]
  },
  {
   "cell_type": "markdown",
   "metadata": {},
   "source": [
    "9) Subsampling using an array with index numbers "
   ]
  },
  {
   "cell_type": "code",
   "execution_count": 36,
   "metadata": {},
   "outputs": [
    {
     "name": "stdout",
     "output_type": "stream",
     "text": [
      "[ 1 -1  0  0  1  1  1 -1  0  0  1 -1 -1  0]\n",
      "subsampled\n",
      "[ 0  2  4  6  8 10 12]\n",
      "[ 1  0  1  1  0  1 -1]\n"
     ]
    }
   ],
   "source": [
    "xdata=np.array([1,-1,0,0,1,1,1,-1,0,0,1,-1,-1,0])\n",
    "i=np.arange(0,len(xdata),2)\n",
    "print (xdata)\n",
    "print (\"subsampled\")\n",
    "print (i)\n",
    "print(xdata[i])"
   ]
  },
  {
   "cell_type": "markdown",
   "metadata": {},
   "source": [
    "10) Subsampling using an array filled with True and False values.\n",
    "\n",
    "These type of numpy arrays can be produced with logical expressions such as"
   ]
  },
  {
   "cell_type": "code",
   "execution_count": 45,
   "metadata": {},
   "outputs": [
    {
     "name": "stdout",
     "output_type": "stream",
     "text": [
      "subsampled data that are not negative\n",
      "[1 0 0 1 1 1 0 0 1 0]\n",
      "corresponding values in ydata array\n",
      "[-27   0   0 -27 -27 -27   0   0 -27   0]\n"
     ]
    }
   ],
   "source": [
    "xdata=np.array([1,-1,0,0,1,1,1,-1,0,0,1,-1,-1,0])\n",
    "ydata=-1*(xdata+xdata+xdata)**3\n",
    "is_positive = xdata > 0\n",
    "is_zero = xdata == 0 \n",
    "is_nonnegative = np.logical_or(is_positive,is_zero)\n",
    "print(\"subsampled data that are not negative\")\n",
    "print(xdata[is_nonnegative])\n",
    "print(\"corresponding values in ydata array\")\n",
    "print(ydata[is_nonnegative])"
   ]
  },
  {
   "cell_type": "code",
   "execution_count": null,
   "metadata": {},
   "outputs": [],
   "source": []
  }
 ],
 "metadata": {
  "kernelspec": {
   "display_name": "Python 3",
   "language": "python",
   "name": "python3"
  },
  "language_info": {
   "codemirror_mode": {
    "name": "ipython",
    "version": 3
   },
   "file_extension": ".py",
   "mimetype": "text/x-python",
   "name": "python",
   "nbconvert_exporter": "python",
   "pygments_lexer": "ipython3",
   "version": "3.6.7"
  }
 },
 "nbformat": 4,
 "nbformat_minor": 2
}
