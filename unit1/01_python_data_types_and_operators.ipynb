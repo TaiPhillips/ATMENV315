{
 "cells": [
  {
   "cell_type": "markdown",
   "metadata": {},
   "source": [
    "## Unit 1.1 Python data types and operators\n",
    "\n"
   ]
  },
  {
   "cell_type": "markdown",
   "metadata": {},
   "source": [
    "### 1.1.1 Calculations with integer and floating point numbers\n",
    "\n",
    "You can use Python cells and the Run-button to do calculations pretty simple and fast. Below are some tasks that will demonstrate how Python works with interger and floating point numbers and typical mathematical operators. "
   ]
  },
  {
   "cell_type": "markdown",
   "metadata": {},
   "source": [
    "_A note on Python cells and seeing the effects of a running a Python code cell in Notebooks._\n",
    "\n",
    "You may wonder why sometimes running the code cell does not show the result of your calculations. It is possible to show the result of a single line of calculations like this"
   ]
  },
  {
   "cell_type": "code",
   "execution_count": null,
   "metadata": {},
   "outputs": [],
   "source": [
    "9/5*(-40)+32"
   ]
  },
  {
   "cell_type": "markdown",
   "metadata": {},
   "source": [
    "But you won't see all results when you put two or more calculations in one cell"
   ]
  },
  {
   "cell_type": "code",
   "execution_count": null,
   "metadata": {},
   "outputs": [],
   "source": [
    "(-8-32)*5/9\n",
    "9/5*(-40)+32"
   ]
  },
  {
   "cell_type": "markdown",
   "metadata": {},
   "source": [
    "That's why we need to use the print function in our code to show the results of our code."
   ]
  },
  {
   "cell_type": "code",
   "execution_count": null,
   "metadata": {},
   "outputs": [],
   "source": [
    "print (\"-8F in deg C\")\n",
    "print((-8-32)*5/9)\n",
    "print(\"one more result\")\n",
    "print (\"What is =40C in F?\")\n",
    "print (9/5*(-40)+32)"
   ]
  },
  {
   "cell_type": "markdown",
   "metadata": {},
   "source": [
    "# Activity"
   ]
  },
  {
   "cell_type": "markdown",
   "metadata": {},
   "source": [
    "__Task 1__ \n",
    "\n",
    "In the German news you read about a recent snow storm event. The article mentions snow accumulations of 80 cm.  \n",
    "How much is this in inches? Look up the conversion factor from inches to centimeter and do the calculation with Python.  "
   ]
  },
  {
   "cell_type": "code",
   "execution_count": 1,
   "metadata": {},
   "outputs": [
    {
     "data": {
      "text/plain": [
       "31.496062992125985"
      ]
     },
     "execution_count": 1,
     "metadata": {},
     "output_type": "execute_result"
    }
   ],
   "source": []
  },
  {
   "cell_type": "markdown",
   "metadata": {},
   "source": [
    "__Task 2__\n",
    "\n",
    "Goto to the [EPA's web page](https://www.epa.gov/energy/greenhouse-gases-equivalencies-calculator-calculations-and-references) and use Python code to validate the _CO2 emission factor_\n",
    "(an estimate for how much CO2 is emitted per kWh electricity production/consumption).\n",
    "\n"
   ]
  },
  {
   "cell_type": "code",
   "execution_count": null,
   "metadata": {},
   "outputs": [],
   "source": []
  },
  {
   "cell_type": "markdown",
   "metadata": {},
   "source": [
    "__Task 3__\n",
    "\n",
    "Floating point numbers and the use of the scientific floating point notation. \n",
    "The speed of light is \n",
    "\n",
    "$c=299792458.0\\frac{m}{s}$\n",
    "\n",
    "Proof that the floating point number written with the exponent notation \n",
    "$c=2.99792458E8\\frac{m}{s}$ is indeed the same value by performing a calculation that \n",
    "results in 1.0.\n"
   ]
  },
  {
   "cell_type": "code",
   "execution_count": null,
   "metadata": {},
   "outputs": [],
   "source": [
    "c=2.99792458E8\n",
    "# continue here"
   ]
  },
  {
   "cell_type": "markdown",
   "metadata": {},
   "source": [
    "### 1.1.2 The print function and data type string\n",
    "\n",
    "One of the most elementary functions that we use in Python is the print function. It allows us to read results from calculations on the screen. Below are a few examples how the print function works with interger, floating point and string data types. Also notice that we can use variables with the function.\n"
   ]
  },
  {
   "cell_type": "code",
   "execution_count": null,
   "metadata": {},
   "outputs": [],
   "source": [
    "wavelength=550E-9 # green light\n",
    "unit=\"nm\"\n",
    "print (\"The wavelength of green light is \",wavelength, unit)\n",
    "\n",
    "frequency=c/wavelength\n",
    "conversion_factor=1E12\n",
    "frequency=frequency/conversion_factor\n",
    "unit=\"THz\"\n",
    "print (\"The frequency of green light is \"+str(frequency)+\" \"+unit)\n"
   ]
  },
  {
   "cell_type": "markdown",
   "metadata": {},
   "source": [
    "### User input from keyboard with the input() function\n",
    "\n",
    "The function **input()** allows you to enter text. This text is then assigned to a variable, so we can make use of the user information. Per default, the function _input()_\n",
    "operates with strings. Strings are different data types than integer or floating point numbers.\n",
    "\n",
    "The input-function waits for you to enter some text in the opening cell.  \n",
    "However, the function waits for the end of your input. The end is signalled when you hit the key 'Enter'.  \n",
    "So, in the meantime you are 'trapped' inside the input-function, and the code below is not executed  \n",
    "until you hit 'Enter'. \n",
    "\n",
    "**BE AWARE!!! YOU MAY EASILY OVERLOOK THE WAITING INPUT FUNCTION, THEN NOTHING ELSE BELOW SEEM TO WORK IN THE CODE CELLS **"
   ]
  },
  {
   "cell_type": "code",
   "execution_count": null,
   "metadata": {},
   "outputs": [],
   "source": [
    "x=input(\"What is your name? \") # enter text below and hit return\n",
    "print (\"let's see what you entered:\")\n",
    "print (x)"
   ]
  },
  {
   "cell_type": "markdown",
   "metadata": {},
   "source": [
    "### Object-types in python\n",
    "Every object in python a number, a string, a function, has to be stored soemwhere in the memory in a binary code consisting of only two bits of information:  \n",
    "*0* or *1*.  \n",
    "\n",
    "Variables you can think of pointers that give the python interpreter the right location in the memory space where it finds the data associated with the variable.\n",
    "\n",
    "__By now you should know these different types:__\n",
    "* numerical\n",
    "    * interger (-134, 0, 128 etc)\n",
    "    * floating point (real numbers) ( 1.234, -0.1, 5.10E14)\n",
    "* strings (\"Hello\")\n",
    "\n",
    "One more data type is commonly used in Python. Can you see in the code below which one is new?\n"
   ]
  },
  {
   "cell_type": "code",
   "execution_count": null,
   "metadata": {},
   "outputs": [],
   "source": [
    "type(12)"
   ]
  },
  {
   "cell_type": "code",
   "execution_count": null,
   "metadata": {},
   "outputs": [],
   "source": [
    "type(12*3)"
   ]
  },
  {
   "cell_type": "code",
   "execution_count": null,
   "metadata": {},
   "outputs": [],
   "source": [
    "type(12/3) "
   ]
  },
  {
   "cell_type": "code",
   "execution_count": null,
   "metadata": {},
   "outputs": [],
   "source": [
    "type(11/3)"
   ]
  },
  {
   "cell_type": "code",
   "execution_count": null,
   "metadata": {},
   "outputs": [],
   "source": [
    "print (12/3 == 4)"
   ]
  },
  {
   "cell_type": "markdown",
   "metadata": {},
   "source": [
    "---\n",
    "#### Some additional background for the interested student:\n",
    "There is one more type that we encountered, actually, and that is the type function.  \n",
    "Try it on the functions we know to use already:"
   ]
  },
  {
   "cell_type": "code",
   "execution_count": null,
   "metadata": {},
   "outputs": [],
   "source": [
    "print ( type(True))"
   ]
  },
  {
   "cell_type": "markdown",
   "metadata": {},
   "source": [
    "Note that we nested the function type inside the function call print. Nested function calls are allowed and often done. Later we learn more about the use of functions and their results."
   ]
  },
  {
   "cell_type": "code",
   "execution_count": null,
   "metadata": {
    "scrolled": true
   },
   "outputs": [],
   "source": [
    "type(11*3)"
   ]
  },
  {
   "cell_type": "code",
   "execution_count": null,
   "metadata": {},
   "outputs": [],
   "source": [
    "type(11/3)"
   ]
  },
  {
   "cell_type": "markdown",
   "metadata": {},
   "source": [
    "# Summary:\n",
    "\n",
    "You should now be able to distinguish between four basic data types: int, float, bool (\"_logical_\"), and string. Implicit type conversion can take place during operations such as division. Usually Python makes smart conversions that avoid 'bad surprises'. Make use of the type function to check the type of your variables or results from operations.\n"
   ]
  },
  {
   "cell_type": "code",
   "execution_count": null,
   "metadata": {},
   "outputs": [],
   "source": []
  }
 ],
 "metadata": {
  "kernelspec": {
   "display_name": "Python 3",
   "language": "python",
   "name": "python3"
  },
  "language_info": {
   "codemirror_mode": {
    "name": "ipython",
    "version": 3
   },
   "file_extension": ".py",
   "mimetype": "text/x-python",
   "name": "python",
   "nbconvert_exporter": "python",
   "pygments_lexer": "ipython3",
   "version": "3.6.7"
  }
 },
 "nbformat": 4,
 "nbformat_minor": 2
}
