{
 "cells": [
  {
   "cell_type": "markdown",
   "metadata": {},
   "source": [
    "### Working with variables, logical expressions\n",
    "This notebook builds upon the previous notebook. However, here we want to create an alert system, when the ISS will fly over Albany.\n",
    "\n",
    "See [open-noitfy.org](http://open-notify.org/Open-Notify-API/ISS-Location-Now/)"
   ]
  },
  {
   "cell_type": "markdown",
   "metadata": {},
   "source": [
    "The Python code below shows a typical script structure:\n",
    "1. The first cell contains import statements\n",
    "2. The second cell makes use of some functions from the packages:\n",
    "    - It sends a request to a server to get some data \n",
    "    - It parses the returned text and extracts the data we are interested in\n",
    "3. The third cell is where we show the results.\n",
    "\n"
   ]
  },
  {
   "cell_type": "code",
   "execution_count": null,
   "metadata": {},
   "outputs": [],
   "source": [
    "# Import additional packages that provide useful functions\n",
    "# Get the packages support to make http requests\n",
    "import urllib3\n",
    "import json"
   ]
  },
  {
   "cell_type": "markdown",
   "metadata": {},
   "source": [
    "### Sending data request to server"
   ]
  },
  {
   "cell_type": "code",
   "execution_count": null,
   "metadata": {},
   "outputs": [],
   "source": [
    "http = urllib3.PoolManager()\n",
    "r = http.request('GET', \"http://api.open-notify.org/iss-now.json\")\n",
    "# returns a dictionary \n",
    "result=json.loads(r.data.decode('utf-8'))\n",
    "iss=result['iss_position'] # key is iss_position, \n",
    "                           # and the value itself is a dictionary\n",
    "lon=iss['longitude']\n",
    "lat=iss['latitude']"
   ]
  },
  {
   "cell_type": "code",
   "execution_count": null,
   "metadata": {},
   "outputs": [],
   "source": [
    "print (\"Current long and latitude position of the ISS: \"+lon+' '+lat)\n"
   ]
  },
  {
   "cell_type": "markdown",
   "metadata": {},
   "source": [
    "## Questions: \n",
    "1. How many variables have been defined in the above three Python code cells?\n",
    "2. Variables *lon* and *lat* are assigned to data. What is the type of the data? String, float,int, bool ,or something else?\n",
    "3. How can you find out what is the type of the object/data that the variables *lon* and *lat* have been assigned to?\n",
    " "
   ]
  },
  {
   "cell_type": "code",
   "execution_count": null,
   "metadata": {},
   "outputs": [],
   "source": [
    "# check the type of lon and lat here\n",
    "\n"
   ]
  },
  {
   "cell_type": "markdown",
   "metadata": {},
   "source": [
    "---\n",
    "## Intermezzo: Useful type conversion functions:\n",
    "\n",
    "Often we read data from web pages or text files and sometimes variables may contain numbers in form of a type _string_. But with string objects  we cannot do calculations! So hw do get the numerical values?\n",
    "\n",
    "You can convert a string (when it contains a valid number) with functions *int* and *float*.\n",
    "\n",
    "### Excercise:\n",
    "\n",
    "Convert the following data types of the variables from string to numbers so you can calculate the surface area of the Earth (approximated as a sphere): $A=4*\\pi*r^{2}$\n",
    "\n",
    "Make use of function _int_ and _float_ in the code below and code up the equation using the variables instead of the numbers itself.\n",
    "\n",
    "Validate your result at [Earth facts on wikipedia](https://en.wikipedia.org/wiki/Earth)"
   ]
  },
  {
   "cell_type": "code",
   "execution_count": null,
   "metadata": {},
   "outputs": [],
   "source": [
    "pi=\"3.1415\"\n",
    "radius=\"6378e3\"\n",
    "factor=\"4\"\n",
    "\n",
    "area=factor*pi*radius**2\n"
   ]
  },
  {
   "cell_type": "markdown",
   "metadata": {},
   "source": [
    "### Print the result \n",
    "\n",
    "Convert the variable _area_ back into a string and use the print function. Just make use of the *str* function at the right place.\n"
   ]
  },
  {
   "cell_type": "code",
   "execution_count": null,
   "metadata": {},
   "outputs": [],
   "source": [
    "print (\"The area of the Earth is approx. \"+area)"
   ]
  },
  {
   "cell_type": "markdown",
   "metadata": {},
   "source": [
    "---"
   ]
  },
  {
   "cell_type": "markdown",
   "metadata": {},
   "source": [
    "## Back to the ISS station: Alert message when it is close to us in Albany\n",
    "\n",
    "We want to do a simple check: Is the longitude of the ISS within 10 deg of our longitude? And is the latitude within 10 deg of our latitude?\n",
    "If yes, then we want to be put on alert!\n",
    "For this we need the operators that compare two numbers and result in True or False. These are logical expressions.\n",
    "\n",
    "We can check for $x ==  y$, $ x!= y$, $x<y$, $ x>y$, $x<=y$, $x>=y$ .\n",
    "Each of those logical expressions results in *True* or *False*.\n",
    "Expressions can be combined with the logical operators *and*, *or* (*not* is another one and *xor*).\n",
    "\n",
    "Here we need to check that the **absolute difference** is between values 0 and 10 deg. (Whether it is south or north of us doesn't matter.)\n",
    "\n",
    "The function *abs* helps us with the comparison.(e.g. *abs(-1.0)* gives 1.0). "
   ]
  },
  {
   "cell_type": "code",
   "execution_count": null,
   "metadata": {},
   "outputs": [],
   "source": [
    "# try it here with generic variables x,y\n",
    "# or skip this and go right at work with ISS lon lat data\n",
    "x=1.0\n",
    "y=1.0001**2\n",
    "print(x==y)"
   ]
  },
  {
   "cell_type": "markdown",
   "metadata": {},
   "source": [
    "### Variable declaration:\n",
    "\n",
    "*my_lon*  and *my_lat* are the observer's geographic coordinates on the ground."
   ]
  },
  {
   "cell_type": "code",
   "execution_count": null,
   "metadata": {},
   "outputs": [],
   "source": [
    "\n",
    "# define two variables for location of Albany \n",
    "# Coordinates from Wikipedia (in degrees and minutes)\n",
    "my_lon=-73.0-45.0/60\n",
    "my_lat= 42.0+39.0/60\n"
   ]
  },
  {
   "cell_type": "code",
   "execution_count": null,
   "metadata": {},
   "outputs": [],
   "source": [
    "delta_lon=10\n",
    "delta_lat=10\n",
    "lon=float(lon)\n",
    "lat=float(lat)\n",
    "\n",
    "\n",
    "# we need to save the result in a variable\n",
    "is_lon_in_range = abs(lon-my_lon) < delta_lon\n",
    "is_lat_in_range = abs(lat-my_lat) < delta_lat\n",
    "print (is_lon_in_range)\n",
    "print (is_lat_in_range)\n",
    "# logical and operation\n",
    "is_in_area= is_lon_in_range and is_lat_in_range\n",
    "\n",
    "if is_in_area:\n",
    "    print (\"ALERT: Maybe you have a chance to see the ISS in the sky\")\n",
    "else:\n",
    "    print (\"ISS is somewhere else right now.\")\n"
   ]
  },
  {
   "cell_type": "markdown",
   "metadata": {},
   "source": [
    "## Question to for students:\n",
    "\n",
    "It is unlikely that the ISS will be right above Albany when you run the code. How can we test that the code actually works as we intended? (There could be a logical error that we overlooked?) \n",
    "So, how can you make some changes to variables that allow you to get the is_in_area to be *True*? \n",
    "\n",
    "**Tip: Check the the [current position of the ISS station (http://www.isstracker.com/).**"
   ]
  },
  {
   "cell_type": "markdown",
   "metadata": {},
   "source": [
    "## Learning objective: \n",
    "\n",
    "- Variables don't reveal the type of the assigned data objects to us.  \n",
    "- Make use of the *type* function when you work with variables! Especially important, when variables were defined in a section in the Python code that is not familiar to you.\n",
    "- Type conversions from string to integer or float, and back from numbers to string can be done with *int*,*float*,*str* functions.\n",
    "- logical expressions result in a boolean *True* or *False* \n",
    "- they can be combined with operators *and* or *or*. \n",
    "- if-else statements allow us to make use of the logical expressions to branch code (\"if true do this or else do that\").\n",
    "\n",
    "**Other useful things to remember:**\n",
    "\n",
    "The function abs(x) returns the absolute value of x\n",
    "\n"
   ]
  },
  {
   "cell_type": "markdown",
   "metadata": {},
   "source": [
    "## References and Links:\n",
    " - [open-noitfy.org](http://open-notify.org/)\n",
    " - [NASA web page with ISS location and overhead times](https://spotthestation.nasa.gov/sightings/view.cfm?country=United_States&region=New_York&city=Albany)"
   ]
  },
  {
   "cell_type": "markdown",
   "metadata": {},
   "source": [
    "### Optional tasks (For students with Python experience):\n",
    "\n",
    "- Can you figure out how to make a map with Matplotlib (pyplot) and put the ISS location and Albany into a simple x-y diagram using a marker.\n",
    "\n",
    "\n",
    "[Matplotlib](https://matplotlib.org/users/pyplot_tutorial.html)"
   ]
  }
 ],
 "metadata": {
  "kernelspec": {
   "display_name": "Python 3",
   "language": "python",
   "name": "python3"
  },
  "language_info": {
   "codemirror_mode": {
    "name": "ipython",
    "version": 3
   },
   "file_extension": ".py",
   "mimetype": "text/x-python",
   "name": "python",
   "nbconvert_exporter": "python",
   "pygments_lexer": "ipython3",
   "version": "3.6.6"
  }
 },
 "nbformat": 4,
 "nbformat_minor": 2
}
