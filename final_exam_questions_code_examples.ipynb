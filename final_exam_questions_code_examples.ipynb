{
 "cells": [
  {
   "cell_type": "markdown",
   "metadata": {},
   "source": [
    "# Mid-term Review Session \n",
    "\n",
    "This notebook contains examples in relation to the PPT presentation (available through Blackboard course content)\n"
   ]
  },
  {
   "cell_type": "code",
   "execution_count": 1,
   "metadata": {},
   "outputs": [],
   "source": [
    "import numpy as np\n",
    "import matplotlib.pyplot as plt"
   ]
  },
  {
   "cell_type": "markdown",
   "metadata": {},
   "source": [
    "Which of the following lines of code assigns values to a variable (or several variables)? \n"
   ]
  },
  {
   "cell_type": "code",
   "execution_count": null,
   "metadata": {},
   "outputs": [],
   "source": [
    "\"x\" plus \"y\" = \"z\"\n",
    "\"x\" == \"7\"\n",
    "lon,lat = 74.3, 45.2\n",
    "1,100 = start,end\n",
    "x <=(66-32)"
   ]
  },
  {
   "cell_type": "code",
   "execution_count": null,
   "metadata": {},
   "outputs": [],
   "source": [
    "How do you write a simple function that returns the product of three numbers"
   ]
  },
  {
   "cell_type": "code",
   "execution_count": null,
   "metadata": {},
   "outputs": [],
   "source": [
    "# a)\n",
    "for p in (x,y,z):\n",
    "    return p\n",
    "\n",
    "# b)\n",
    "return x*y*z\n",
    "\n",
    "# c)\n",
    "result= x*y*z\n",
    "\n",
    "# d) \n",
    "def f(x,y,z):\n",
    "    return x*y*z\n",
    "\n",
    "# e) \n",
    "product=f(x*y*z)\n",
    "return product\n"
   ]
  },
  {
   "cell_type": "code",
   "execution_count": null,
   "metadata": {},
   "outputs": [],
   "source": [
    "# question on import statements"
   ]
  },
  {
   "cell_type": "code",
   "execution_count": null,
   "metadata": {},
   "outputs": [],
   "source": [
    "import support as spt\n",
    "from module import support\n",
    "as support def spt\n",
    "for support call help(spt)\n",
    "support SSE"
   ]
  },
  {
   "cell_type": "markdown",
   "metadata": {},
   "source": [
    "2) Why should you not use variable names like “print” “len” “int” “else”?\n",
    "\n",
    "Note: Once you run the cell below, you have to restart the kernel to get function len back."
   ]
  },
  {
   "cell_type": "code",
   "execution_count": null,
   "metadata": {},
   "outputs": [],
   "source": [
    "lon = np.array(buffer)\n",
    "print (len(lon))\n",
    "len=\"I was not aware that len was a function name\"\n",
    "print(len) \n",
    "print(len(lon))\n"
   ]
  },
  {
   "cell_type": "markdown",
   "metadata": {},
   "source": [
    "3) What is a Docstring?\n",
    "\n",
    "It allows you to document your functions. Users of functions usually won't see the code of the function definition. The docstring is shown when you cal lthe help-function with the function name as argument. See below.\n"
   ]
  },
  {
   "cell_type": "code",
   "execution_count": null,
   "metadata": {},
   "outputs": [],
   "source": [
    "def fahrenheit(T_in_celsius): \n",
    "    \"\"\"Returns the temperature in degrees Fahrenheit. Input temperature in Celsius.\n",
    "    \n",
    "    Example: tf=fahrenheit(10.0)\n",
    "    \"\"\"\n",
    "    T_in_fahrenheit=(T_in_celsius * 9 / 5) + 32\n",
    "    return T_in_fahrenheit\n",
    "\n",
    "help(fahrenheit)"
   ]
  },
  {
   "cell_type": "markdown",
   "metadata": {},
   "source": [
    "4) Following nested loops work flow. What is the value of variable counter on line 15? "
   ]
  },
  {
   "cell_type": "code",
   "execution_count": null,
   "metadata": {},
   "outputs": [],
   "source": [
    "surface=np.zeros(shape=[10,8])\n",
    "x=[1,2,3,4,5,6,7,8]\n",
    "y=[1,2,3,4,5,6,7,8,9,10]\n",
    "\n",
    "i=0\n",
    "counter=0\n",
    "while i<len(x):\n",
    "    j=0\n",
    "    while j<len(y):\n",
    "        surface[j,i]=x[i]+y[j]\n",
    "        counter=counter+1\n",
    "        j=j+1\n",
    "    i=i+1\n",
    "print(\"filled surface array with data.\")\n",
    "print(\"total iterations: \",counter)\n",
    "\n",
    "\n",
    "plt.pcolormesh(x,y,surface)\n",
    "plt.colorbar()\n",
    "plt.show()"
   ]
  },
  {
   "cell_type": "code",
   "execution_count": 31,
   "metadata": {
    "scrolled": true
   },
   "outputs": [
    {
     "name": "stdout",
     "output_type": "stream",
     "text": [
      "5000\n"
     ]
    },
    {
     "data": {
      "image/png": "[encoded data removed]",
      "text/plain": [
       "<Figure size 432x288 with 1 Axes>"
      ]
     },
     "metadata": {},
     "output_type": "display_data"
    }
   ],
   "source": [
    "nlon,nlat=100, 50\n",
    "dx, dy= 2.5, 2.5\n",
    "pressure=np.zeros(shape=(nlat,nlon)) \n",
    "j=0\n",
    "n=0\n",
    "while j<nlat:\n",
    "    i=0\n",
    "    while i<nlon:\n",
    "        pressure[j,i]=np.sin(np.pi/180.0*i*dx*3) \\\n",
    "                    *np.exp(-1*(dy*j-50)**2/200.)\n",
    "        i=i+1\n",
    "        n=n+1\n",
    "    j=j+1\n",
    "print(n)\n",
    "plt.contour(pressure)\n",
    "plt.show()"
   ]
  },
  {
   "cell_type": "markdown",
   "metadata": {},
   "source": [
    "5) Do you understand the difference between defining a function and making use of a function?"
   ]
  },
  {
   "cell_type": "code",
   "execution_count": null,
   "metadata": {},
   "outputs": [],
   "source": [
    "# function definition \n",
    "def myfunction(x,y,xoffset=0,yoffset=0):\n",
    "    z=(x-xoffset)**2+(y-yoffset)**3\n",
    "    return z"
   ]
  },
  {
   "cell_type": "code",
   "execution_count": null,
   "metadata": {},
   "outputs": [],
   "source": [
    "# function call\n",
    "\n",
    "myfunction(1,2)"
   ]
  },
  {
   "cell_type": "markdown",
   "metadata": {},
   "source": [
    "6) Do you understand the terms “parameters”, “keyword parameters”, function calls with “arguments”? \n"
   ]
  },
  {
   "cell_type": "code",
   "execution_count": null,
   "metadata": {},
   "outputs": [],
   "source": [
    "z0=myfunction(1,2) \n",
    "z1=myfunction(1,2,yoffset=+3)\n",
    "z2=myfunction(1,2,xoffset=-5)\n",
    "z3=myfunction(1,2,yoffset=+3,xoffset=-5)\n",
    "print (z0,z1,z2,z3)"
   ]
  },
  {
   "cell_type": "code",
   "execution_count": null,
   "metadata": {},
   "outputs": [],
   "source": [
    "#new: similar question but checking which function call includes a keyword argument"
   ]
  },
  {
   "cell_type": "code",
   "execution_count": null,
   "metadata": {},
   "outputs": [],
   "source": [
    "x=np.array(x)\n",
    "for item in ['My','for','loop','was', 'a' ,'success!']:\n",
    "plt.plot(year,temp1,color='red',label=\"yearly anomalies\")\n",
    "result=np.loadtxt(filename)\n",
    "print (i,sid,complete_name[i])"
   ]
  },
  {
   "cell_type": "markdown",
   "metadata": {},
   "source": [
    "7) Can you write a basic for loop and iterate through all list items of list [‘My’,’for’,’loop’,’was’, ‘a’ ,’success!’]  ?\n"
   ]
  },
  {
   "cell_type": "code",
   "execution_count": null,
   "metadata": {},
   "outputs": [],
   "source": [
    "line=\"\"\n",
    "# paste together into a string\n",
    "for item in ['My','for','loop','was', 'a' ,'success!']:\n",
    "    line=line+\" \"+item\n",
    "    print (line)\n",
    "  \n",
    "    \n"
   ]
  },
  {
   "cell_type": "markdown",
   "metadata": {},
   "source": [
    "8) Basic slicing operations (subsampling from a list or 1-dim numpy array)\n"
   ]
  },
  {
   "cell_type": "code",
   "execution_count": null,
   "metadata": {},
   "outputs": [],
   "source": [
    "xlist=['My','for','loop','was', 'a' ,'success!']\n",
    "last_item=xlist[-1]\n",
    "print (\"last item: \",last_item)\n",
    "verb=xlist[3]\n",
    "print (\"the verb in the list: \",verb)"
   ]
  },
  {
   "cell_type": "markdown",
   "metadata": {},
   "source": [
    "9) Subsampling using an array with index numbers "
   ]
  },
  {
   "cell_type": "code",
   "execution_count": null,
   "metadata": {},
   "outputs": [],
   "source": [
    "xdata=np.array([1,-1,0,0,1,1,1,-1,0,0,1,-1,-1,0])\n",
    "i=np.arange(0,len(xdata),2)\n",
    "print (xdata)\n",
    "print (\"subsampled\")\n",
    "print (i)\n",
    "print(xdata[i])"
   ]
  },
  {
   "cell_type": "markdown",
   "metadata": {},
   "source": [
    "10) Subsampling using an array filled with True and False values.\n",
    "\n",
    "These type of numpy arrays can be produced with logical expressions such as"
   ]
  },
  {
   "cell_type": "code",
   "execution_count": null,
   "metadata": {},
   "outputs": [],
   "source": [
    "xdata=np.array([1,-1,0,0,1,1,1,-1,0,0,1,-1,-1,0])\n",
    "ydata=-1*(xdata+xdata+xdata)**3\n",
    "is_positive = xdata > 0\n",
    "is_zero = xdata == 0 \n",
    "is_nonnegative = np.logical_or(is_positive,is_zero)\n",
    "print(\"subsampled data that are not negative\")\n",
    "print(xdata[is_nonnegative])\n",
    "print(\"corresponding values in ydata array\")\n",
    "print(ydata[is_nonnegative])"
   ]
  },
  {
   "cell_type": "code",
   "execution_count": 2,
   "metadata": {},
   "outputs": [
    {
     "name": "stdout",
     "output_type": "stream",
     "text": [
      "[32 31]\n",
      "[False False False False  True  True False]\n"
     ]
    }
   ],
   "source": [
    "import numpy as np\n",
    "date=[\"06/17\",\"06/18\",\"06/19\",\"06/20\",\"06/21\",\"06/22\",\"06/23\"]\n",
    "temp=np.array([18,23,29,24,32,31,21]) # temp in degree C\n",
    "hot_days=temp>30\n",
    "print(temp[hot_days])\n",
    "print(hot_days)"
   ]
  },
  {
   "cell_type": "code",
   "execution_count": 5,
   "metadata": {},
   "outputs": [
    {
     "name": "stdout",
     "output_type": "stream",
     "text": [
      "Month with proper sample size between 20 and 40\n",
      "[ 2  5  6  7 11]\n",
      "corresponding sample size\n",
      "[29 30 28 31 30]\n"
     ]
    }
   ],
   "source": [
    "import numpy as np \n",
    "sample_size=np.array([16,29, 0, 0,30,28,31, 0, 0, 0,30,45])\n",
    "month      =np.array([1 ,2 , 3, 4, 5, 6, 7, 8, 9,10,11,12])\n",
    "check_range = sample_size < 40\n",
    "large_sample= sample_size > 20\n",
    "\n",
    "index = np.logical_and(check_range,large_sample)\n",
    "print(\"Month with proper sample size between 20 and 40\")\n",
    "print(month[index])\n",
    "print(\"corresponding sample size\")\n",
    "print(sample_size[index])\n"
   ]
  },
  {
   "cell_type": "code",
   "execution_count": null,
   "metadata": {},
   "outputs": [],
   "source": []
  }
 ],
 "metadata": {
  "kernelspec": {
   "display_name": "Python 3",
   "language": "python",
   "name": "python3"
  },
  "language_info": {
   "codemirror_mode": {
    "name": "ipython",
    "version": 3
   },
   "file_extension": ".py",
   "mimetype": "text/x-python",
   "name": "python",
   "nbconvert_exporter": "python",
   "pygments_lexer": "ipython3",
   "version": "3.6.7"
  }
 },
 "nbformat": 4,
 "nbformat_minor": 2
}
