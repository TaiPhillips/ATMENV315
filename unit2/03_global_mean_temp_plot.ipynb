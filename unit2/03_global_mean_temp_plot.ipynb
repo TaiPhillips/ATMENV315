{
 "cells": [
  {
   "cell_type": "markdown",
   "metadata": {},
   "source": [
    "# Global mean surface temperature (GMST) time series"
   ]
  },
  {
   "cell_type": "markdown",
   "metadata": {},
   "source": [
    "## Global mean surface temperature trend visualization\n",
    "\n",
    "We use here data from NASA GISS. They are reported in degree Celsius departures from 1951-1980 30-year climatological mean. We use a local file that was downloaded from the web page\n",
    "\n",
    "[https://climate.nasa.gov/vital-signs/global-temperature/](https://climate.nasa.gov/vital-signs/global-temperature/)"
   ]
  },
  {
   "cell_type": "code",
   "execution_count": null,
   "metadata": {},
   "outputs": [],
   "source": [
    "%matplotlib inline\n",
    "\n",
    "import matplotlib.pyplot as plt\n",
    "import numpy as np"
   ]
  },
  {
   "cell_type": "code",
   "execution_count": null,
   "metadata": {},
   "outputs": [],
   "source": [
    "# local data file name (path and filename)\n",
    "path=\"/nfs/home11/staff/timm/Public/Data/\"\n",
    "filename=path+\"GISS_Global_Temperature.csv\""
   ]
  },
  {
   "cell_type": "markdown",
   "metadata": {},
   "source": [
    "## The next code block is not the focus of this programming activity\n",
    "\n",
    "We will soon explain function definitions and the used Python code inside the function in upcoming lectures. Here in class unit 2, you can skip to the next Python code cell that follows. \n",
    "**All we need to know is that three variables _year_, _temp1_, and _temp2_ are defined and filled with data that is coming from the function *load_my_data*.**"
   ]
  },
  {
   "cell_type": "code",
   "execution_count": null,
   "metadata": {},
   "outputs": [],
   "source": [
    "###############################################################################\n",
    "# Support to load the data from the local CSV file\n",
    "###############################################################################\n",
    "\n",
    "\n",
    "\n",
    "print(\"*********************************************************\")\n",
    "print(\"Loading the temperature data from CSV-file.\")\n",
    "print(\"*********************************************************\")\n",
    "result=np.loadtxt(filename,skiprows=0,delimiter=',')\n",
    "\n",
    "year=np.array(result[:,0])\n",
    "temp1=np.array(result[:,1])\n",
    "temp2=np.array(result[:,2])\n",
    "\n",
    "print (\"Now you have the data in three variables named\")\n",
    "print (\"year temp1 temp2\")"
   ]
  },
  {
   "cell_type": "code",
   "execution_count": null,
   "metadata": {},
   "outputs": [],
   "source": [
    "print (\"Here is some useful info about the variables:\")\n",
    "print (\"-------------------------------------------------------\")\n",
    "print (\"type of year, temp1,temp2:\")\n",
    "print (type(year),type(temp1), type(temp2))\n",
    "print (\"shape of arrays:\")\n",
    "print (np.shape(year),np.shape(temp1),np.shape(temp2))\n",
    "print (\"-------------------------------------------------------\")"
   ]
  },
  {
   "cell_type": "markdown",
   "metadata": {},
   "source": [
    "## 1. Problem: How can we look at the full temperature time series with a decent figure caption, axes labels?"
   ]
  },
  {
   "cell_type": "code",
   "execution_count": null,
   "metadata": {},
   "outputs": [],
   "source": [
    "# Code for your plot."
   ]
  },
  {
   "cell_type": "markdown",
   "metadata": {},
   "source": [
    "## 2. Problem: Can you create a bar plot showing indidual years, and the smoothed curve as thick line for the years 1988-2018?\n",
    "\n",
    "Try an online search for help on \"Python matplotlib setting axis limits\""
   ]
  },
  {
   "cell_type": "code",
   "execution_count": null,
   "metadata": {},
   "outputs": [],
   "source": [
    "# Code for your plot."
   ]
  },
  {
   "cell_type": "markdown",
   "metadata": {},
   "source": [
    "## Further References:\n",
    "    \n",
    " - [plots with matplotlib.pyplot](https://jakevdp.github.io/PythonDataScienceHandbook/04.01-simple-line-plots.html)"
   ]
  }
 ],
 "metadata": {
  "kernelspec": {
   "display_name": "Python 3",
   "language": "python",
   "name": "python3"
  },
  "language_info": {
   "codemirror_mode": {
    "name": "ipython",
    "version": 3
   },
   "file_extension": ".py",
   "mimetype": "text/x-python",
   "name": "python",
   "nbconvert_exporter": "python",
   "pygments_lexer": "ipython3",
   "version": "3.6.6"
  }
 },
 "nbformat": 4,
 "nbformat_minor": 2
}
