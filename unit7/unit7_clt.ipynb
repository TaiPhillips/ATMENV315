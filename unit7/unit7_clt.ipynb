{
 "cells": [
  {
   "cell_type": "markdown",
   "metadata": {},
   "source": [
    "# Unit 7: Demonstration Central Limit Theorem\n"
   ]
  },
  {
   "cell_type": "code",
   "execution_count": null,
   "metadata": {},
   "outputs": [],
   "source": [
    "\"\"\"\n",
    "Created on Tue Feb 24 17:09:44 2015\n",
    "\n",
    "@author: Oliver Elison Timm\n",
    "\n",
    "Purpose: Illustration of the Central Limit Theorem\n",
    "\n",
    "Version: V3.1\n",
    "\n",
    "History:\n",
    "    2019-03    Converted from Python 2 into Python 3 code\n",
    "    and inserted code from clt_v3.py script into Notebook format.\n",
    "    \n",
    "    2017-03-29 \n",
    "    \n",
    "    This script was modified to demonstrate the definition of a function\n",
    "    and the assignment of return values (summary-function)\n",
    "    This default version sums up two uniform random number samples.\n",
    "    The code can be easily adjusted to more summation terms.\n",
    "    [One can also switch to code making use of a loop\n",
    "    and 2-dimensional data arrays with nsample rows and k columns.]\n",
    "    \n",
    "    2016-03-02 \n",
    "    \n",
    "    Removed some of the older code (simpler syntax)\n",
    "    \n",
    "    2015-03-03\n",
    "\n",
    "    This version tests the effect of sample size in the averaging of IID random\n",
    "    variables on the mean and standard deviation of the estimated mean.\n",
    "\n",
    "\"\"\"\n",
    "\n",
    "import numpy as np\n",
    "import pylab as plt\n",
    "# sometimes we just need one specific subpackage or function \n",
    "# in this case we want to have the Gaussian distribution support\n",
    "from scipy.stats import norm \n",
    "\n",
    "\n",
    "def summary(y,):\n",
    "    \"\"\"Prints a summary for numpy array y (with the random variables)\n",
    "    input parameter: y: a list or numpy array with numbers\n",
    "    returns the mean, standard deviation, minimum and maximum value.\"\"\"\n",
    "    # end of function's docstring (shows up when typing help(summary))\n",
    "    # Note the print function uses inside the strings the placeholder %12.4f for \n",
    "    # formatting the list (Python type 'tuple') of numbers such as mean and stddev\n",
    "    # they are printed where %12.4f shows up in the string #########.####\n",
    "    print ('Summary statistics for random variable Y:')\n",
    "    print ('sample size='+str(len(y)))   \n",
    "    m=np.mean(y)\n",
    "    s=np.std(y)\n",
    "    mn=np.min(y)\n",
    "    mx=np.max(y)\n",
    "    print ('estimated mean of Y=%12.4f; stddev of Y=%12.4f ' % (m,s))  \n",
    "    print ('min-max range of the sample data Y: %12.4f - %12.4f ' % (mn,mx))\n",
    "    return m,s, mn,mx"
   ]
  },
  {
   "cell_type": "markdown",
   "metadata": {},
   "source": [
    "<P style=\"background-color:purple;color:gold;font-size:133%\">\n",
    "<BR>\n",
    " Main code section (Users should only make changes below)\n",
    "<BR>\n",
    "<BR>\n",
    "</P>"
   ]
  },
  {
   "cell_type": "code",
   "execution_count": null,
   "metadata": {},
   "outputs": [],
   "source": [
    "# **********************************************************\n",
    "# Main part\n",
    "# **********************************************************\n",
    "isCheck=True\n",
    "# create uniformly distributed random numbers\n",
    "nsample=1000 # this is n in the description\n",
    "\n",
    "# two independent and identically distributed random number sets\n",
    "x1=np.random.uniform(size=nsample)\n",
    "x2=np.random.uniform(size=nsample)\n",
    "y=x1+x2\n",
    "\n",
    "if isCheck:\n",
    "    print('-------------------------')\n",
    "    print('just checking: what is y?')\n",
    "    print('object type: ', type(y))\n",
    "    print('length:' + str(len(y)))\n",
    "    print('should be a 1-dim array with '+str(nsample)+' numbers')\n",
    "    print('-------------------------')\n",
    "\n",
    "print(\"y=x1+x2:\")\n",
    "print(\"--------\")\n",
    "\n",
    "m,s,mn,mx=summary(y)"
   ]
  },
  {
   "cell_type": "code",
   "execution_count": null,
   "metadata": {},
   "outputs": [],
   "source": [
    "# figure with two histograms side by side\n",
    "# sharing the same y-axis range is set off    \n",
    "nbin=30 # controls how many bins (bars) the histgram uses\n",
    "fig, ax = plt.subplots(1, 2, sharex=False, sharey=False)\n",
    "# left figure\n",
    "ax[0].hist(x1,bins=nbin,color='burlywood',normed=True,histtype='step')\n",
    "ax[0].hist(x2,bins=nbin,color='crimson',normed=True,histtype='step')\n",
    "ax[0].set_title('histogram of x')\n",
    "# right figure\n",
    "ax[1].hist(y,bins=nbin,color='cyan',normed=True)\n",
    "ax[1].set_title('histogram of y')\n",
    "\n",
    "\n",
    "# last compare with the 'best fitted gaussian PDF\n",
    "# location parameter is the mean of y and scale parameter is the \n",
    "# standard deviation of y\n",
    "\n",
    "xhelp=np.linspace(mn,mx,num=100)\n",
    "\n",
    "gaussian=norm.pdf(xhelp,m,s)\n",
    "ax[1].plot(xhelp,gaussian,color='violet',linewidth=3)\n",
    "\n",
    "fig.show()"
   ]
  },
  {
   "cell_type": "code",
   "execution_count": null,
   "metadata": {},
   "outputs": [],
   "source": []
  }
 ],
 "metadata": {
  "kernelspec": {
   "display_name": "Python 3",
   "language": "python",
   "name": "python3"
  },
  "language_info": {
   "codemirror_mode": {
    "name": "ipython",
    "version": 3
   },
   "file_extension": ".py",
   "mimetype": "text/x-python",
   "name": "python",
   "nbconvert_exporter": "python",
   "pygments_lexer": "ipython3",
   "version": "3.6.7"
  }
 },
 "nbformat": 4,
 "nbformat_minor": 2
}
