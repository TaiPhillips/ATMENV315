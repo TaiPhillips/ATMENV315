{
 "cells": [
  {
   "cell_type": "markdown",
   "metadata": {},
   "source": [
    "# Unit 7: Simulation of sampling with replacement\n",
    "\n",
    "## 1 Introduction\n",
    "\n",
    "This notebook simulates the activity from the previous class: \n",
    "\n",
    "Each team was given an envelope with an**unknown population of tiles with numbers**\n",
    "\n",
    "### {1,2,3,4,5,6}\n",
    "\n",
    "We randomly selected one tile from the population, took note of the number on the tile\n",
    "and returned the tile back into the envelope. This type of repeated sampling from the population is known as \"*sampling with replacement*\".\n",
    "\n",
    "The experiment was designed in such a way that one of the six events in the sample space has a lower probability than the remaining five events, which all have the same probability.\n",
    "\n",
    "1. All numbers are evenly distributed: the probability of the event '*tile shows number x*' is the same for all possible numbers x.\n",
    "2. One number has half the probability compared with the rest of the numbers.\n",
    "\n",
    "The question of interest: **What is a large enough sample size so that we can distinguish between the low-probabilty event and the others. In other words, after how many trials do we have enough observations to detect a difference in the frequency of the events?** \n",
    "\n",
    "Suprisingly, it takes quite a few samples before the random fluctuations in the relative frequency of each event is reduced. The more samples we have in our data set, the more accurate is the estimated relative frequency for each event.\n",
    "\n"
   ]
  },
  {
   "cell_type": "markdown",
   "metadata": {},
   "source": [
    "## 2. How can we simulate a random process like the sampling from a bag with tiles?\n",
    "\n",
    "First of all, we have to be able to generate random numbers. That's possible with numpy. Numpy can generate discrete (integer) numbers with equal probability within a defined range (e.g. integers 1,2,3,4,5,6).\n",
    "\n",
    "The function that produces evenly (uniformly) distributed integer numbers is\n",
    "*np.random.randint*\n",
    "\n"
   ]
  },
  {
   "cell_type": "code",
   "execution_count": 4,
   "metadata": {},
   "outputs": [
    {
     "name": "stdout",
     "output_type": "stream",
     "text": [
      "Help on built-in function randint:\n",
      "\n",
      "randint(...) method of mtrand.RandomState instance\n",
      "    randint(low, high=None, size=None, dtype='l')\n",
      "    \n",
      "    Return random integers from `low` (inclusive) to `high` (exclusive).\n",
      "    \n",
      "    Return random integers from the \"discrete uniform\" distribution of\n",
      "    the specified dtype in the \"half-open\" interval [`low`, `high`). If\n",
      "    `high` is None (the default), then results are from [0, `low`).\n",
      "    \n",
      "    Parameters\n",
      "    ----------\n",
      "    low : int\n",
      "        Lowest (signed) integer to be drawn from the distribution (unless\n",
      "        ``high=None``, in which case this parameter is one above the\n",
      "        *highest* such integer).\n",
      "    high : int, optional\n",
      "        If provided, one above the largest (signed) integer to be drawn\n",
      "        from the distribution (see above for behavior if ``high=None``).\n",
      "    size : int or tuple of ints, optional\n",
      "        Output shape.  If the given shape is, e.g., ``(m, n, k)``, then\n",
      "        ``m * n * k`` samples are drawn.  Default is None, in which case a\n",
      "        single value is returned.\n",
      "    dtype : dtype, optional\n",
      "        Desired dtype of the result. All dtypes are determined by their\n",
      "        name, i.e., 'int64', 'int', etc, so byteorder is not available\n",
      "        and a specific precision may have different C types depending\n",
      "        on the platform. The default value is 'np.int'.\n",
      "    \n",
      "        .. versionadded:: 1.11.0\n",
      "    \n",
      "    Returns\n",
      "    -------\n",
      "    out : int or ndarray of ints\n",
      "        `size`-shaped array of random integers from the appropriate\n",
      "        distribution, or a single such random int if `size` not provided.\n",
      "    \n",
      "    See Also\n",
      "    --------\n",
      "    random.random_integers : similar to `randint`, only for the closed\n",
      "        interval [`low`, `high`], and 1 is the lowest value if `high` is\n",
      "        omitted. In particular, this other one is the one to use to generate\n",
      "        uniformly distributed discrete non-integers.\n",
      "    \n",
      "    Examples\n",
      "    --------\n",
      "    >>> np.random.randint(2, size=10)\n",
      "    array([1, 0, 0, 0, 1, 1, 0, 0, 1, 0])\n",
      "    >>> np.random.randint(1, size=10)\n",
      "    array([0, 0, 0, 0, 0, 0, 0, 0, 0, 0])\n",
      "    \n",
      "    Generate a 2 x 4 array of ints between 0 and 4, inclusive:\n",
      "    \n",
      "    >>> np.random.randint(5, size=(2, 4))\n",
      "    array([[4, 0, 2, 1],\n",
      "           [3, 2, 2, 0]])\n",
      "\n"
     ]
    }
   ],
   "source": [
    "import numpy as np\n",
    "import matplotlib.pyplot as plt\n",
    "\n",
    "help(np.random.randint)"
   ]
  },
  {
   "cell_type": "markdown",
   "metadata": {},
   "source": [
    "## 2.1 The basics of working with random numbers\n",
    "\n",
    "In order to simulate the experiment of sampling from the bag of tiles we need a few parameters that control the simulation:\n",
    "\n",
    "* define the 'event space': {1,2,3,4,5,6}, this we do here with the integer variables i1 and i2.\n",
    "* we define a list with the event numbers for the plotting of the results\n",
    "* it is of course a good idea to use a variable that controls the sample size\n"
   ]
  },
  {
   "cell_type": "code",
   "execution_count": 33,
   "metadata": {},
   "outputs": [
    {
     "name": "stdout",
     "output_type": "stream",
     "text": [
      "[5 1 3 5 5 2 6 2 1 2 5 4 2 3 4 1 3 3 1 4 3 2 3 1 2 2 1 5 5 3 6 5 3 6 3 1 3\n",
      " 4 4 1 1 3 2 3 2 3 4 5 4 1 1 6 5 6 1 4 4 4 4 6 4 6 2 4 2 1 3 1 5 2 4 6 2 5\n",
      " 6 2 1 4 4 3 3 2 4 1 1 4 2 2 3 2 2 4 1 6 4 3 4 5 1 4 1 6 4 1 5 6 6 1 2 3 4\n",
      " 3 1 5 1 3 2 1 5 5 5 2 1 3 6 4 5 4 1 5 3 2 6 5 2 4 1 1 6 2 1 1 6 4 1 4 1 1\n",
      " 2 1 4 1 4 4 6 6 4 2 1 2 4 2 3 3 1 4 4 2 2 6 1 3 1 3 5 2 1 4 5 4 1 1 2 6 4\n",
      " 2 4 1 3 3 6 6 1 5 2 6 2 2 3 3 3 5 3 4 2 1 2 3 1 1 4 2 6 3 3 6 4 3 4 6 4 6\n",
      " 2 5 5 5 3 3 1 6 4 5 5 6 4 6 1 6 5 4 3 4 3 3 5 1 4 6 4 5 3 5 5 4 1 5 6 3 5\n",
      " 6 1 3 5 2 4 4 2 2 4 2 1 5 3 1 2 3 1 6 5 4 5 1 6 5 6 1 6 1 3 6 3 3 4 2 6 6\n",
      " 5 2 2 6]\n"
     ]
    }
   ],
   "source": [
    "n=300 # sample size\n",
    "i1 ,i2 = 1, 6+1\n",
    "sample=np.random.randint(i1,i2,size=n)\n",
    "print(sample)"
   ]
  },
  {
   "cell_type": "markdown",
   "metadata": {},
   "source": [
    "## 2.2 Calculate relative frequencies\n",
    "\n",
    "Function *np.histogram* allows us to calculate the frequency of events falling into a specific value range.\n",
    "That range is defined by the lower and upper boundaries of the bins.\n"
   ]
  },
  {
   "cell_type": "code",
   "execution_count": 34,
   "metadata": {},
   "outputs": [],
   "source": [
    "# for the histograms we need the control of the bins\n",
    "event=      [    1,    2,    3,    4,    5,    6    ]\n",
    "# Note the borders for our bins (event ranges)\n",
    "bin_borders=[0.5,  1.5,  2.5,  3.5,  4.5,  5.5,  6.5]\n",
    "# we can get the numerical results\n",
    "result=np.histogram(sample,bins=bin_borders)\n",
    "count=result[0] # first item in  returned list has the counts for each bin\n",
    "rel_freq=count/sum(count)\n",
    "\n"
   ]
  },
  {
   "cell_type": "markdown",
   "metadata": {},
   "source": [
    "## 2.3 Text-based summary of the results \n",
    "(e.g. for tables in research reports)"
   ]
  },
  {
   "cell_type": "code",
   "execution_count": 35,
   "metadata": {},
   "outputs": [
    {
     "name": "stdout",
     "output_type": "stream",
     "text": [
      "counts and relative frequency of the events\n",
      "tile=1, 59, 0.19666666666666666\n",
      "tile=2, 49, 0.16333333333333333\n",
      "tile=3, 50, 0.16666666666666666\n",
      "tile=4, 57, 0.19\n",
      "tile=5, 42, 0.14\n",
      "tile=6, 43, 0.14333333333333334\n",
      "----------------\n",
      "checksum : 0.9999999999999999\n"
     ]
    }
   ],
   "source": [
    "i=0\n",
    "print (\"counts and relative frequency of the events\")\n",
    "while i<len(count):\n",
    "    print (\"tile=\"+str(event[i])+\", \"+str(count[i])+\", \"+str(rel_freq[i]))\n",
    "    i=i+1\n",
    "print (\"----------------\")\n",
    "print (\"checksum : \"+str(sum(rel_freq)))"
   ]
  },
  {
   "cell_type": "markdown",
   "metadata": {},
   "source": [
    "## 2.4 Histogram plot \n",
    "\n",
    "Aside from the long parameter list that allows us to adjust the colors of the plot, there is one important optional parameter to switch into the mode showing relative frequencies: *density=True*"
   ]
  },
  {
   "cell_type": "code",
   "execution_count": 36,
   "metadata": {},
   "outputs": [
    {
     "data": {
      "text/plain": [
       "[<matplotlib.lines.Line2D at 0x7f5c20601b00>]"
      ]
     },
     "execution_count": 36,
     "metadata": {},
     "output_type": "execute_result"
    },
    {
     "data": {
      "image/png": "[encoded data removed]",
      "text/plain": [
       "<Figure size 432x288 with 1 Axes>"
      ]
     },
     "metadata": {},
     "output_type": "display_data"
    }
   ],
   "source": [
    "plt.hist(sample,bins=bin_borders,rwidth=0.8,lw=2,edgecolor='purple',facecolor='gold',alpha=0.7,density=True)\n",
    "plt.ylabel(\"relative frequency\")\n",
    "plt.xlabel(\"event 'tile shows number #'\")\n",
    "plt.text(0.2,0.175, 'expected value P=1/6',fontsize=16)\n",
    "plt.plot([0,7],[1/6, 1/6],':',color='black')"
   ]
  },
  {
   "cell_type": "markdown",
   "metadata": {},
   "source": [
    "## 3. Summary\n",
    "\n",
    "* Numpy offers random number generators that produce discrete events (integer numbers) with equal probability (*np.random.randint*). We use the function to simulate the class experiment: 'sampling tiles from an evenlope with even distribution of all numbers'. \n",
    "* Numpy has a function (*np.histogram*) that calculates the frequency of events (integer or real numbers) falling inside a certain bin (range of values)\n"
   ]
  },
  {
   "cell_type": "markdown",
   "metadata": {},
   "source": [
    "## 4. Next steps\n",
    "\n",
    "We cannot simulate the experiment with a population with non-uniform distribution. One solution how we can do this with the same numpy function will be shown in the next notebook."
   ]
  },
  {
   "cell_type": "markdown",
   "metadata": {},
   "source": []
  }
 ],
 "metadata": {
  "kernelspec": {
   "display_name": "Python 3",
   "language": "python",
   "name": "python3"
  },
  "language_info": {
   "codemirror_mode": {
    "name": "ipython",
    "version": 3
   },
   "file_extension": ".py",
   "mimetype": "text/x-python",
   "name": "python",
   "nbconvert_exporter": "python",
   "pygments_lexer": "ipython3",
   "version": "3.6.7"
  }
 },
 "nbformat": 4,
 "nbformat_minor": 2
}
