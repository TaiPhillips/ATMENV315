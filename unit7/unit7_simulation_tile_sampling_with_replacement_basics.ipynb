{
 "cells": [
  {
   "cell_type": "markdown",
   "metadata": {},
   "source": [
    "# Unit 7: Simulation of sampling with replacement\n",
    "\n",
    "## 1 Introduction\n",
    "\n",
    "This notebook simulates the activity from the previous class: \n",
    "\n",
    "Each team was given an envelope with an**unknown population of tiles with numbers**\n",
    "\n",
    "### {1,2,3,4,5,6}\n",
    "\n",
    "We randomly selected one tile from the population, took note of the number on the tile\n",
    "and returned the tile back into the envelope. This type of repeated sampling from the population is known as \"*sampling with replacement*\".\n",
    "\n",
    "The experiment was designed in such a way that one of the six events in the sample space has a lower probability than the remaining five events, which all have the same probability.\n",
    "\n",
    "1. All numbers are evenly distributed: the probability of the event '*tile shows number x*' is the same for all possible numbers x.\n",
    "2. One number has half the probability compared with the rest of the numbers.\n",
    "\n",
    "The question of interest: **What is a large enough sample size so that we can distinguish between the low-probabilty event and the others. In other words, after how many trials do we have enough observations to detect a difference in the frequency of the events?** \n",
    "\n",
    "Suprisingly, it takes quite a few samples before the random fluctuations in the relative frequency of each event is reduced. The more samples we have in our data set, the more accurate is the estimated relative frequency for each event.\n",
    "\n"
   ]
  },
  {
   "cell_type": "markdown",
   "metadata": {},
   "source": [
    "## 2. How can we simulate a random process like the sampling from a bag with tiles?\n",
    "\n",
    "First of all, we have to be able to generate random numbers. That's possible with numpy. Numpy can generate discrete (integer) numbers with equal probability within a defined range (e.g. integers 1,2,3,4,5,6).\n",
    "\n",
    "The function that produces evenly (uniformly) distributed integer numbers is\n",
    "*np.random.randint*\n",
    "\n"
   ]
  },
  {
   "cell_type": "code",
   "execution_count": null,
   "metadata": {},
   "outputs": [],
   "source": [
    "import numpy as np\n",
    "import matplotlib.pyplot as plt\n",
    "\n",
    "help(np.random.randint)"
   ]
  },
  {
   "cell_type": "markdown",
   "metadata": {},
   "source": [
    "## 2.1 The basics of working with random numbers\n",
    "\n",
    "In order to simulate the experiment of sampling from the bag of tiles we need a few parameters that control the simulation:\n",
    "\n",
    "* define the 'event space': {1,2,3,4,5,6}, this we do here with the integer variables i1 and i2.\n",
    "* we define a list with the event numbers for the plotting of the results\n",
    "* it is of course a good idea to use a variable that controls the sample size\n"
   ]
  },
  {
   "cell_type": "code",
   "execution_count": null,
   "metadata": {},
   "outputs": [],
   "source": [
    "n=30 # sample size\n",
    "i1 ,i2 = 1, 6+1\n",
    "sample=np.random.randint(i1,i2,size=n)\n",
    "print(sample)"
   ]
  },
  {
   "cell_type": "markdown",
   "metadata": {},
   "source": [
    "## 2.2 Calculate relative frequencies\n",
    "\n",
    "Function *np.histogram* allows us to calculate the frequency of events falling into a specific value range.\n",
    "That range is defined by the lower and upper boundaries of the bins.\n"
   ]
  },
  {
   "cell_type": "code",
   "execution_count": null,
   "metadata": {},
   "outputs": [],
   "source": [
    "# for the histograms we need the control of the bins\n",
    "event=      [    1,    2,    3,    4,    5,    6    ]\n",
    "# Note the borders for our bins (event ranges)\n",
    "bin_borders=[0.5,  1.5,  2.5,  3.5,  4.5,  5.5,  6.5]\n",
    "# we can get the numerical results\n",
    "result=np.histogram(sample,bins=bin_borders)\n",
    "count=result[0] # first item in  returned list has the counts for each bin\n",
    "rel_freq=count/sum(count)"
   ]
  },
  {
   "cell_type": "markdown",
   "metadata": {},
   "source": [
    "## 2.3 Text-based summary of the results \n",
    "(e.g. for tables in research reports)"
   ]
  },
  {
   "cell_type": "code",
   "execution_count": null,
   "metadata": {},
   "outputs": [],
   "source": [
    "i=0\n",
    "print (\"counts and relative frequency of the events\")\n",
    "while i<len(count):\n",
    "    print (\"tile=\"+str(event[i])+\", \"+str(count[i])+\", \"+str(rel_freq[i]))\n",
    "    i=i+1\n",
    "print (\"----------------\")\n",
    "print (\"checksum : \"+str(sum(rel_freq)))"
   ]
  },
  {
   "cell_type": "markdown",
   "metadata": {},
   "source": [
    "## 2.4 Histogram plot \n",
    "\n",
    "Aside from the long parameter list that allows us to adjust the colors of the plot, there is one important optional parameter to switch into the mode showing relative frequencies: *density=True*"
   ]
  },
  {
   "cell_type": "code",
   "execution_count": null,
   "metadata": {},
   "outputs": [],
   "source": [
    "plt.hist(sample,bins=bin_borders,rwidth=0.8,lw=2,\\\n",
    "         edgecolor='purple',facecolor='gold',alpha=0.7,density=True)\n",
    "plt.ylabel(\"relative frequency\")\n",
    "plt.xlabel(\"event 'tile shows number #'\")\n",
    "plt.text(0.2,0.175, 'expected value P=1/6',fontsize=16)\n",
    "plt.plot([0,7],[1/6, 1/6],':',color='black')"
   ]
  },
  {
   "cell_type": "markdown",
   "metadata": {},
   "source": [
    "## 3. Summary\n",
    "\n",
    "* Numpy offers random number generators that produce discrete events (integer numbers) with equal probability (*np.random.randint*). We use the function to simulate the class experiment: 'sampling tiles from an evenlope with even distribution of all numbers'. \n",
    "* Numpy has a function (*np.histogram*) that calculates the frequency of events (integer or real numbers) falling inside a certain bin (range of values)\n"
   ]
  },
  {
   "cell_type": "markdown",
   "metadata": {},
   "source": [
    "## 4. Next steps\n",
    "\n",
    "We cannot simulate the experiment with a population with non-uniform distribution. One solution how we can do this with the same numpy function will be shown in the next notebook."
   ]
  },
  {
   "cell_type": "markdown",
   "metadata": {},
   "source": []
  }
 ],
 "metadata": {
  "kernelspec": {
   "display_name": "Python 3",
   "language": "python",
   "name": "python3"
  },
  "language_info": {
   "codemirror_mode": {
    "name": "ipython",
    "version": 3
   },
   "file_extension": ".py",
   "mimetype": "text/x-python",
   "name": "python",
   "nbconvert_exporter": "python",
   "pygments_lexer": "ipython3",
   "version": "3.6.7"
  }
 },
 "nbformat": 4,
 "nbformat_minor": 2
}
