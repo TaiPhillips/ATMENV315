{
 "cells": [
  {
   "cell_type": "markdown",
   "metadata": {},
   "source": [
    "# Simulation of random events with Python \n",
    "\n",
    "This notebook contains a function that can be used as a numerical simulation of the sampling from a bag filled with tiles  showing the numbers 1,2,3,4,5, or 6.\n",
    "\n",
    "It can also be interpreted as a simulation of rolling six-sided dice.\n",
    "\n"
   ]
  },
  {
   "cell_type": "code",
   "execution_count": null,
   "metadata": {},
   "outputs": [],
   "source": [
    "# -*- coding: utf-8 -*-\n",
    "\"\"\"\n",
    "Created on Mon Feb 20 14:10:29 2017\n",
    "\n",
    "@author: OET\n",
    "\"\"\"\n",
    "import numpy as np\n",
    "def sample_from_population(n, loaded=False):\n",
    "    \"\"\"This function will simulate the tile sampling experiment.\n",
    "    You can also think of it as simulator for rolling a 6-sided.\n",
    "    \n",
    "    Usage: res = roll_dice(30) \n",
    "    Input parameters:\n",
    "           n: the number of times to draw a tile from the population (or roll the die)\n",
    "    Optional input parameters:\n",
    "            loaded: either True of False \n",
    "            (False is default, creating uniform probability for all events)           \n",
    "    Output: \n",
    "           a numpy array with the event numbers\n",
    "           \n",
    "           \n",
    "    Last Update: 2019-03-27 by OET\"\"\"\n",
    "           \n",
    "    if loaded==True:\n",
    "        # loaded dice simulation / tile population with one event having lower probability\n",
    "        population = np.array([1,1,1,1,1,1,\\\n",
    "                               2,2,2,2,2,2,\\\n",
    "                               3,3,3,3,3,3,\\\n",
    "                               4,4,4,      \\\n",
    "                               5,5,5,5,5,5,\\\n",
    "                               6,6,6,6,6,6]) \n",
    "    else:\n",
    "        # fair dice simulation / tile population with uniform (even) probability\n",
    "        population = np.array([1,1,1,1,1,1,\\\n",
    "                               2,2,2,2,2,2,\\\n",
    "                               3,3,3,3,3,3,\\\n",
    "                               4,4,4,4,4,4,\\\n",
    "                               5,5,5,5,5,5,\\\n",
    "                               6,6,6,6,6,6,]) \n",
    "    #return events\n",
    "    return population[np.random.randint(0,np.size(population),size=n)]\n"
   ]
  },
  {
   "cell_type": "code",
   "execution_count": null,
   "metadata": {},
   "outputs": [],
   "source": [
    "help(sample_from_population)"
   ]
  },
  {
   "cell_type": "code",
   "execution_count": null,
   "metadata": {},
   "outputs": [],
   "source": [
    "#  30 trials sampling from the population of tiles / 30 times rolling a 6-sided die \n",
    "\n",
    "n=30\n",
    "\n",
    "# store the summary result from one experiment\n",
    "yfair=sample_from_population(n,loaded=False)\n",
    "yloaded=sample_from_population(n,loaded=True)\n",
    "\n",
    "# bin ranges\n",
    "use_bins=np.arange(0.5,6.5+1,1) # [0.5, 1.5, ... ,6.5]\n",
    "count_fair,index=np.histogram(yfair,bins=use_bins)\n"
   ]
  },
  {
   "cell_type": "code",
   "execution_count": null,
   "metadata": {},
   "outputs": [],
   "source": [
    "% matplotlib inline\n",
    "import matplotlib.pyplot as plt\n",
    "plt.hist(yfair,bins=use_bins,color=\"gold\",edgecolor=\"purple\",width=0.8)\n",
    "plt.show()"
   ]
  },
  {
   "cell_type": "markdown",
   "metadata": {},
   "source": [
    "---\n",
    "### Individual tasks (10 minutes)\n",
    "\n",
    "- 1. Explore the function *sample_from_population* and make sure you understand how the user can change between the two types of populations.\n",
    "- 2. What variable fulfills the equivalent purpose that the envelope had in our real-world experiment?\n",
    "- 3. Which line of code and how exactly do we simulate the physical process of randomly drawing a tile from the envelope?\n",
    "\n",
    "### Team discussion: (5+10 minutes)\n",
    "\n",
    "Discuss the answers to the previous questions and help each other to fully understand how the function code works. \n",
    "\n",
    "Next develop a strategy (for code development) for the following problem:\n",
    "### How can you deploy this function to test systematically if your team's chosen sample size (previous activity with the real tiles) was 'sufficient'? Sufficient means you were able to detect with high confidence the event number that had the lower probability in your population of tiles.\n",
    "\n",
    "\n",
    "### Tip: \n",
    "\n",
    "- You want to repeat the whole experiment, as if we had 10, 20, or 1000 more days and each day we would repeat the sampling-with-replacement experiment with your chosen sample size (e.g. 30+20=50 trials). \n",
    "- You need an objective measure (metric) that allows you quantify your success rate! \n",
    "- Identify the important code structures that will be needed (loops, if-statement, lists, or arrays for data storage)  \n",
    "---\n",
    "\n",
    "(A written summary is recommended for this activity. However, it will not be graded this time, so this time each student is responsible to take their own notes!)\n"
   ]
  },
  {
   "cell_type": "code",
   "execution_count": null,
   "metadata": {},
   "outputs": [],
   "source": []
  }
 ],
 "metadata": {
  "kernelspec": {
   "display_name": "Python 3",
   "language": "python",
   "name": "python3"
  },
  "language_info": {
   "codemirror_mode": {
    "name": "ipython",
    "version": 3
   },
   "file_extension": ".py",
   "mimetype": "text/x-python",
   "name": "python",
   "nbconvert_exporter": "python",
   "pygments_lexer": "ipython3",
   "version": "3.6.7"
  }
 },
 "nbformat": 4,
 "nbformat_minor": 2
}
