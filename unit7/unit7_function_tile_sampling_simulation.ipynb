{
 "cells": [
  {
   "cell_type": "code",
   "execution_count": 4,
   "metadata": {},
   "outputs": [],
   "source": [
    "# -*- coding: utf-8 -*-\n",
    "\"\"\"\n",
    "Created on Mon Feb 20 14:10:29 2017\n",
    "\n",
    "@author: OET\n",
    "\"\"\"\n",
    "#from roll_dice import *\n",
    "import numpy as np\n",
    "\n",
    "def roll_dice(n, loaded=False):\n",
    "    \"\"\"This function will roll a 6-sided die n-times.\n",
    "    \n",
    "    Usage: res = roll_dice(30) \n",
    "    Input parameters:\n",
    "           n: the number of times to roll the die\n",
    "    Optional input parameters:\n",
    "            loaded: either True of False (False is default [fair dice])           \n",
    "    Output: \n",
    "           a numpy array with the rolled numbers\n",
    "           \n",
    "           \n",
    "    Last Update: 2018-03-06 by OET\"\"\"\n",
    "           \n",
    "    if loaded==True:\n",
    "        population = np.array([1,1,1,1,1,1,1,1,\\\n",
    "                               2,2,2,2,2,2,2,2,\\\n",
    "                               3,3,3,3,3,3,3,3,\\\n",
    "                               4,4,4,4,      \\\n",
    "                               5,5,5,5,5,5,5,5,\\\n",
    "                               6,6,6,6,6,6,6,6]) # loaded dice simulation\n",
    "    else:\n",
    "        population = np.array([1,1,1,1,1,1,1,1,\\\n",
    "                               2,2,2,2,2,2,2,2,\\\n",
    "                               3,3,3,3,3,3,3,3,\\\n",
    "                               4,4,4,4,4,4,4,4,\\\n",
    "                               5,5,5,5,5,5,5,5,\\\n",
    "                               6,6,6,6,6,6,6,6]) # fair dice simulation\n",
    "    # in order to simulate a loaded die (or the tiles in the bag) here I    \n",
    "    # generate a random integer number that is used to select\n",
    "    # elements from the data array (population)\n",
    "    #imin=0 \n",
    "    #imax=np.size(population)\n",
    "    #index = np.random.randint(imin,imax,size=nrep)\n",
    "    #events=population[index]\n",
    "    \n",
    "    #return events\n",
    "    # note I could write all this in one line\n",
    "    return population[np.random.randint(0,np.size(population),size=n)]\n",
    "    \n",
    "\n",
    "#  roll dice experiment \n",
    "\n",
    "n=50\n",
    "# store the summary result from one experiment\n",
    "yfair=roll_dice(n,loaded=False)\n",
    "yloaded=roll_dice(n,loaded=True)\n",
    "\n",
    "# bin ranges\n",
    "use_bins=np.arange(0.5,7,1) # [0.5, 1.5, ... ,6.5]\n",
    "count_fair,index=np.histogram(yfair,bins=use_bins)\n",
    "\n"
   ]
  },
  {
   "cell_type": "code",
   "execution_count": 2,
   "metadata": {},
   "outputs": [
    {
     "name": "stdout",
     "output_type": "stream",
     "text": [
      "Help on function roll_dice in module __main__:\n",
      "\n",
      "roll_dice(n, loaded=False)\n",
      "    This function will roll a 6-sided die n-times.\n",
      "    \n",
      "    Usage: res = roll_dice(30) \n",
      "    Input parameters:\n",
      "           n: the number of times to roll the die\n",
      "    Optional input parameters:\n",
      "            loaded: either True of False (False is default [fair dice])           \n",
      "    Output: \n",
      "           a numpy array with the rolled numbers\n",
      "           \n",
      "           \n",
      "    Last Update: 2018-03-06 by OET\n",
      "\n"
     ]
    }
   ],
   "source": [
    "help(roll_dice)"
   ]
  }
 ],
 "metadata": {
  "kernelspec": {
   "display_name": "Python 3",
   "language": "python",
   "name": "python3"
  },
  "language_info": {
   "codemirror_mode": {
    "name": "ipython",
    "version": 3
   },
   "file_extension": ".py",
   "mimetype": "text/x-python",
   "name": "python",
   "nbconvert_exporter": "python",
   "pygments_lexer": "ipython3",
   "version": "3.6.7"
  }
 },
 "nbformat": 4,
 "nbformat_minor": 2
}
